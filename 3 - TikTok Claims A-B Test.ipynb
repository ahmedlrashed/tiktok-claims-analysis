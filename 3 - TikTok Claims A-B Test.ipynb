{
    "metadata": {
        "kernelspec": {
            "name": "python3",
            "display_name": "Python 3",
            "language": "python"
        },
        "language_info": {
            "name": "python",
            "version": "3.10.4",
            "mimetype": "text/x-python",
            "codemirror_mode": {
                "name": "ipython",
                "version": 3
            },
            "pygments_lexer": "ipython3",
            "nbconvert_exporter": "python",
            "file_extension": ".py"
        },
        "colab": {
            "provenance": []
        }
    },
    "nbformat_minor": 2,
    "nbformat": 4,
    "cells": [
        {
            "cell_type": "markdown",
            "source": [
                "# **TikTok Claims A-B Testing**\n",
                "\n",
                "**The goal** of this third notebook is to <span style=\"color: var(--vscode-foreground);\">discover if&nbsp;there is a relationship between the account-verified-status and the average-view-counts. We will then&nbsp;create a visualization of our findings and add that visualization to the report we share to stakeholders.</span>\n",
                "\n",
                "**Part 1:** Load the Data\n",
                "\n",
                "**Part 2:** <span style=\"color: var(--vscode-foreground);\">&nbsp;Prepare the Data</span>\n",
                "\n",
                "**Part 3:** Construct the A-B Test\n",
                "\n",
                "**Part 4:** Share Findings with Stakeholders"
            ],
            "metadata": {
                "id": "T_Ds8CYcvlhT",
                "azdata_cell_guid": "b8e6d9eb-3767-45d3-b18c-98c17396acf3"
            },
            "attachments": {}
        },
        {
            "cell_type": "markdown",
            "source": [
                "## **1: Load the Data**\n",
                "\n",
                "### **Build dataframe**"
            ],
            "metadata": {
                "id": "xgQEdIN7f1Jq",
                "azdata_cell_guid": "be1c3447-1353-42b9-b862-167ddfb0ae12"
            },
            "attachments": {}
        },
        {
            "cell_type": "code",
            "source": [
                "# Import packages for data manipulation\n",
                "import pandas as pd\n",
                "import numpy as np\n",
                "\n",
                "# Import packages for data visualization\n",
                "import matplotlib.pyplot as plt\n",
                "import seaborn as sns\n",
                "\n",
                "# Import packages for statistical analysis/hypothesis testing\n",
                "from scipy import stats\n",
                "\n",
                "# Load dataset into dataframe\n",
                "data = pd.read_csv(\"tiktok_dataset.csv\")\n",
                ""
            ],
            "metadata": {
                "id": "1Q-GL2UrgWWG",
                "azdata_cell_guid": "66a67215-ae77-411d-a19f-d9b1cf72a8ca",
                "language": "python"
            },
            "outputs": [],
            "execution_count": 2
        },
        {
            "cell_type": "markdown",
            "source": [
                "## **2: Prepare the Data**\n",
                "\n",
                "### **Clean Data**"
            ],
            "metadata": {
                "id": "UKhYTdVhf5B2",
                "azdata_cell_guid": "b7e422c2-25ca-4107-be9b-f296d11f9f35"
            },
            "attachments": {}
        },
        {
            "cell_type": "code",
            "source": [
                "# Drop rows with missing values\n",
                "data = data.dropna(axis=0)\n",
                ""
            ],
            "metadata": {
                "id": "SHSj1Hma914I",
                "azdata_cell_guid": "a63ec929-4ed7-43e8-8525-111da7f16289",
                "language": "python",
                "tags": []
            },
            "outputs": [],
            "execution_count": 4
        },
        {
            "cell_type": "markdown",
            "source": [
                "### **Preliminary Data Exploration**\n",
                "\n",
                "We are interested in the relationship between `verified_status` and `video_view_count`, so we examine the mean values of `video_view_count` for each group of `verified_status` in the sample data."
            ],
            "metadata": {
                "id": "-fFiNg4hdGBK",
                "azdata_cell_guid": "aa825154-d705-4f18-b7d3-d0becef5383f"
            },
            "attachments": {}
        },
        {
            "cell_type": "code",
            "source": [
                "# Compute the mean `video_view_count` for each group in `verified_status`\n",
                "data.groupby(\"verified_status\")[\"video_view_count\"].mean()\n",
                ""
            ],
            "metadata": {
                "colab": {
                    "base_uri": "https://localhost:8080/"
                },
                "executionInfo": {
                    "elapsed": 39,
                    "status": "ok",
                    "timestamp": 1684362462536,
                    "user": {
                        "displayName": "Victoria Lansdown",
                        "userId": "02417259790472296449"
                    },
                    "user_tz": 420
                },
                "id": "2LGEWrdVXgI2",
                "outputId": "4596241c-17c4-4c0f-ee9b-09c0c3742ba3",
                "azdata_cell_guid": "ef75007a-5d9d-4999-99bc-943d85c65a42",
                "language": "python",
                "tags": []
            },
            "outputs": [
                {
                    "data": {
                        "text/plain": "verified_status\nnot verified    265663.785339\nverified         91439.164167\nName: video_view_count, dtype: float64"
                    },
                    "metadata": {},
                    "execution_count": 5,
                    "output_type": "execute_result"
                }
            ],
            "execution_count": 5
        },
        {
            "cell_type": "markdown",
            "source": [
                "Based on the averages shown, it appears that not-verified accounts have higher view-counts than verified-accounts. However, this difference might arise from random sampling, rather than being a true difference in fare amount. To assess whether the difference is statistically significant, we conduct a hypothesis test."
            ],
            "metadata": {
                "language": "python",
                "azdata_cell_guid": "75efbce8-635c-486a-bd13-3fee23f13118"
            },
            "attachments": {}
        },
        {
            "cell_type": "markdown",
            "source": [
                "## **3: Construct the A-B Test**\n",
                "\n",
                "### **Hypothesis Testing**\n",
                "\n",
                "- **Null hypothesis**: There is no difference in number of views between TikTok videos posted by verified accounts and TikTok videos posted by unverified accounts (any observed difference in the sample data is due to chance or sampling variability).\n",
                "- **Alternative hypothesis**: There is a difference in number of views between TikTok videos posted by verified accounts and TikTok videos posted by unverified accounts (any observed difference in the sample data is due to an actual difference in the corresponding population means)."
            ],
            "metadata": {
                "id": "X5YBFKLZulG5",
                "azdata_cell_guid": "799c2648-f0ee-43cb-b7d2-aab9e268f426"
            },
            "attachments": {}
        },
        {
            "cell_type": "markdown",
            "source": [
                "### **Significance Level**\n",
                "\n",
                "We choose 5% as the significance level and proceed with a two-sample t-test."
            ],
            "metadata": {
                "id": "IVHpnfvNeTUA",
                "azdata_cell_guid": "f65c36cc-f221-49b4-b703-c1d8b5869ddc"
            },
            "attachments": {}
        },
        {
            "cell_type": "markdown",
            "source": [
                "### **Find P-Value**"
            ],
            "metadata": {
                "azdata_cell_guid": "534cd7f8-e856-4f31-9e12-5c401205f93b"
            },
            "attachments": {}
        },
        {
            "cell_type": "code",
            "source": [
                "# Conduct a two-sample t-test to compare means\n",
                "\n",
                "# Save each sample in a variable\n",
                "not_verified = data[data[\"verified_status\"] == \"not verified\"][\"video_view_count\"]\n",
                "verified = data[data[\"verified_status\"] == \"verified\"][\"video_view_count\"]\n",
                "\n",
                "# Implement a t-test using the two samples\n",
                "stats.ttest_ind(a=not_verified, b=verified, equal_var=False)"
            ],
            "metadata": {
                "colab": {
                    "base_uri": "https://localhost:8080/"
                },
                "executionInfo": {
                    "elapsed": 36,
                    "status": "ok",
                    "timestamp": 1684362462538,
                    "user": {
                        "displayName": "Victoria Lansdown",
                        "userId": "02417259790472296449"
                    },
                    "user_tz": 420
                },
                "id": "rdlsXg7Dhbrd",
                "outputId": "c25ee2f9-cf41-4dfa-d7dd-8c30ffd47966",
                "azdata_cell_guid": "0becc6e2-9229-4ad0-ae31-c112f494d50e",
                "language": "python"
            },
            "outputs": [
                {
                    "output_type": "execute_result",
                    "execution_count": 9,
                    "data": {
                        "text/plain": "Ttest_indResult(statistic=25.499441780633777, pvalue=2.6088823687177823e-120)"
                    },
                    "metadata": {}
                }
            ],
            "execution_count": 9
        },
        {
            "cell_type": "markdown",
            "source": [
                "### **Hypothesis Result**\n",
                "\n",
                "<span style=\"color: var(--vscode-foreground);\">Since the p-value is extremely small (much smaller than the significance level of 5%), we reject the null hypothesis.&nbsp;</span> \n",
                "\n",
                "<span style=\"color: var(--vscode-foreground);\">Our conclusion is that there </span> **is** <span style=\"color: var(--vscode-foreground);\"> a statistically significant difference in the mean video view count between verified and unverified accounts on TikTok.</span>"
            ],
            "metadata": {
                "id": "64Wq_VSaVsNm",
                "azdata_cell_guid": "1753aa98-cdd9-48a7-b174-4f017870b20d"
            },
            "attachments": {}
        },
        {
            "cell_type": "markdown",
            "source": [
                "## **4: Share Findings with Stakeholders**\n",
                "\n",
                "### **Conclusions**\n",
                "\n",
                "<span style=\"color: var(--vscode-foreground);\">The analysis shows that there is a statistically significant difference in the average view counts between videos from verified accounts and videos from unverified accounts. This suggests there might be fundamental behavioral differences between these two groups of accounts.</span>\n",
                "\n",
                "It would be interesting to investigate the root cause of this behavioral difference. For example, do unverified accounts tend to post more clickbait videos? Or are unverified accounts associated with spam bots that help inflate view counts?\n",
                "\n",
                "### **Next Steps**\n",
                "\n",
                "The next step will be to build a regression model on verified\\_status. A regression model is the natural next step because the end goal is to make predictions on claim status. A regression model for verified\\_status can help analyze user behavior in this group of verified users. TECHNICAL NOTE: Because the data is skewed, and there is a significant difference in account types, we will probably need to build a _logistic_ regression model."
            ],
            "metadata": {
                "id": "2OhGFrMCpSj1",
                "azdata_cell_guid": "f313febe-796c-4dfb-b598-def32ef938c9"
            },
            "attachments": {}
        }
    ]
}