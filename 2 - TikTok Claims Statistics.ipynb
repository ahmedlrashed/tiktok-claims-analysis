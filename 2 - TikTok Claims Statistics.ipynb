{
    "metadata": {
        "kernelspec": {
            "name": "python3",
            "display_name": "Python 3",
            "language": "python"
        },
        "language_info": {
            "name": "python",
            "version": "3.10.4",
            "mimetype": "text/x-python",
            "codemirror_mode": {
                "name": "ipython",
                "version": 3
            },
            "pygments_lexer": "ipython3",
            "nbconvert_exporter": "python",
            "file_extension": ".py"
        },
        "colab": {
            "provenance": []
        }
    },
    "nbformat_minor": 2,
    "nbformat": 4,
    "cells": [
        {
            "cell_type": "markdown",
            "source": [
                "# **TikTok Claims Statistics**\n",
                "\n",
                "**The goal** of this second notebook is to characterize and clean the 2019 TikTok Claims data set and to create a visualization to share to stakeholders.\n",
                "\n",
                "**Part 1:** Load the Data\n",
                "\n",
                "- Create a pandas dataframe for data cleaning, statistical analysis, and visualization.\n",
                "\n",
                "**Part 2:** Visualize the Data\n",
                " \n",
                "**Part 3:** Determine Outliers\n",
                " \n",
                "**Part 4:** Arrange and Share the Data"
            ],
            "metadata": {
                "id": "dslrH9LWkWGl",
                "azdata_cell_guid": "635c2ff7-89dc-494a-a221-c497e498e9d0"
            },
            "attachments": {}
        },
        {
            "cell_type": "markdown",
            "source": [
                "## **1: Load the Data**\n",
                "\n",
                "### **Build dataframe**"
            ],
            "metadata": {
                "id": "GdBP5RBNGpSr",
                "azdata_cell_guid": "b20e917d-a489-4ec8-8242-af192cceb0fa"
            },
            "attachments": {}
        },
        {
            "cell_type": "code",
            "source": [
                "# Import packages for data manipulation\n",
                "import pandas as pd\n",
                "import numpy as np\n",
                "\n",
                "# Import packages for data visualization\n",
                "import matplotlib.pyplot as plt\n",
                "import seaborn as sns\n",
                "\n",
                "# Load dataset into dataframe\n",
                "data = pd.read_csv(\"tiktok_dataset.csv\")\n",
                ""
            ],
            "metadata": {
                "id": "EO8vKZI8x8GF",
                "azdata_cell_guid": "eb82451c-e385-45b4-9b10-f5d9902712b1",
                "language": "python"
            },
            "outputs": [],
            "execution_count": 1
        },
        {
            "cell_type": "markdown",
            "source": [
                "## **2: Slice and Visualize the Data**\n",
                "\n",
                "### **Boxplots and Histograms**"
            ],
            "metadata": {
                "id": "BYWkZ4i3wgv4",
                "azdata_cell_guid": "6c3a0a79-584a-4200-9a63-3654f530b7fc"
            },
            "attachments": {}
        },
        {
            "cell_type": "markdown",
            "source": [
                "#### **video\\_duration\\_sec**\n",
                "\n",
                "We create a box plot to examine the spread of values in the `video_duration_sec` column."
            ],
            "metadata": {
                "id": "oMOs4lb1crry",
                "azdata_cell_guid": "ba7068e3-24a0-46a0-beb0-8236530ac855"
            },
            "attachments": {}
        },
        {
            "cell_type": "code",
            "source": [
                "# Create a boxplot to visualize distribution of `video_duration_sec`\n",
                "plt.figure(figsize=(5,1))\n",
                "plt.title('video_duration_sec')\n",
                "sns.boxplot(x=data['video_duration_sec'])\n",
                ""
            ],
            "metadata": {
                "colab": {
                    "base_uri": "https://localhost:8080/",
                    "height": 179
                },
                "executionInfo": {
                    "elapsed": 511,
                    "status": "ok",
                    "timestamp": 1683819364008,
                    "user": {
                        "displayName": "Matteo Riotto",
                        "userId": "15211004813978485634"
                    },
                    "user_tz": 420
                },
                "id": "Ts_lcV6qUQHq",
                "outputId": "a85cb47c-5d56-44f7-99e7-86ce32d757e3",
                "azdata_cell_guid": "72db97c4-c456-40d2-9f05-454be8e210f8",
                "language": "python"
            },
            "outputs": [
                {
                    "data": {
                        "text/plain": "<Figure size 360x72 with 1 Axes>",
                        "image/png": "[encoded data removed]"
                    },
                    "metadata": {
                        "needs_background": "light"
                    },
                    "output_type": "display_data"
                },
                {
                    "data": {
                        "text/plain": "<Axes: title={'center': 'video_duration_sec'}, xlabel='video_duration_sec'>"
                    },
                    "metadata": {},
                    "execution_count": 2,
                    "output_type": "execute_result"
                }
            ],
            "execution_count": 2
        },
        {
            "cell_type": "markdown",
            "source": [
                "<span style=\"color: var(--vscode-foreground);\">We create</span> a histogram of the values in the `video_duration_sec` column to further explore the distribution of this variable."
            ],
            "metadata": {
                "id": "uXRMdFynFd0Z",
                "azdata_cell_guid": "d531d5e7-99b7-4b43-9559-bfabccc81bdc"
            },
            "attachments": {}
        },
        {
            "cell_type": "code",
            "source": [
                "plt.figure(figsize=(5,3))\n",
                "sns.histplot(data['video_duration_sec'], bins=range(0,61,5))\n",
                "plt.title('Video duration histogram')\n",
                ""
            ],
            "metadata": {
                "colab": {
                    "base_uri": "https://localhost:8080/",
                    "height": 333
                },
                "executionInfo": {
                    "elapsed": 247,
                    "status": "ok",
                    "timestamp": 1683736115807,
                    "user": {
                        "displayName": "Matteo Riotto",
                        "userId": "15211004813978485634"
                    },
                    "user_tz": 420
                },
                "id": "bcXB3wA4eO3w",
                "outputId": "b753bd5b-b099-4fca-9ad9-0f6cf5347f25",
                "azdata_cell_guid": "0ffe1594-41e3-4308-8a7a-d7a561b20f27",
                "language": "python"
            },
            "outputs": [
                {
                    "data": {
                        "text/plain": "<Figure size 360x216 with 1 Axes>",
                        "image/png": "[encoded data removed]"
                    },
                    "metadata": {
                        "needs_background": "light"
                    },
                    "output_type": "display_data"
                },
                {
                    "data": {
                        "text/plain": "Text(0.5, 1.0, 'Video duration histogram')"
                    },
                    "metadata": {},
                    "execution_count": 3,
                    "output_type": "execute_result"
                }
            ],
            "execution_count": 3
        },
        {
            "cell_type": "markdown",
            "source": [
                "**Observations****:** All videos are 5-60 seconds in length, and the distribution is uniform."
            ],
            "metadata": {
                "id": "tHYv_swYd7T5",
                "azdata_cell_guid": "21781124-9be4-4e89-aa62-35e95dbdd91c"
            },
            "attachments": {}
        },
        {
            "cell_type": "markdown",
            "source": [
                "#### **video\\_view\\_count**\n",
                "\n",
                "We create a box plot to examine the spread of values in the `video_view_count` column."
            ],
            "metadata": {
                "id": "KucH3fsSglu5",
                "azdata_cell_guid": "8cabf27d-923b-4b8d-b7f4-786fa8e00b29"
            },
            "attachments": {}
        },
        {
            "cell_type": "code",
            "source": [
                "# Create a boxplot to visualize distribution of `video_view_count`\n",
                "plt.figure(figsize=(5, 1))\n",
                "plt.title('video_view_count')\n",
                "sns.boxplot(x=data['video_view_count'])\n",
                ""
            ],
            "metadata": {
                "colab": {
                    "base_uri": "https://localhost:8080/",
                    "height": 179
                },
                "executionInfo": {
                    "elapsed": 468,
                    "status": "ok",
                    "timestamp": 1683819409615,
                    "user": {
                        "displayName": "Matteo Riotto",
                        "userId": "15211004813978485634"
                    },
                    "user_tz": 420
                },
                "id": "qlUccI91a4NH",
                "outputId": "909e82dd-9008-401b-9a4e-cab9d5f27d48",
                "azdata_cell_guid": "c8bf6441-c1c7-414c-8d34-1fb8691417e3",
                "language": "python"
            },
            "outputs": [
                {
                    "data": {
                        "text/plain": "<Figure size 360x72 with 1 Axes>",
                        "image/png": "[encoded data removed]"
                    },
                    "metadata": {
                        "needs_background": "light"
                    },
                    "output_type": "display_data"
                },
                {
                    "data": {
                        "text/plain": "<Axes: title={'center': 'video_view_count'}, xlabel='video_view_count'>"
                    },
                    "metadata": {},
                    "execution_count": 4,
                    "output_type": "execute_result"
                }
            ],
            "execution_count": 4
        },
        {
            "cell_type": "markdown",
            "source": [
                "<span style=\"color: var(--vscode-foreground);\">We create</span> a histogram of the values in the `video_view_count` column to further explore the distribution of this variable."
            ],
            "metadata": {
                "id": "wHGAs6loFunE",
                "azdata_cell_guid": "52d2cc58-5104-4e44-bf77-acdc166fb84a"
            },
            "attachments": {}
        },
        {
            "cell_type": "code",
            "source": [
                "plt.figure(figsize=(5,3))\n",
                "sns.histplot(data['video_view_count'], bins=range(0,(10**6+1),10**5))\n",
                "plt.title('Video view count histogram')\n",
                "\n",
                "# save the plot as JPG file\n",
                "plt.savefig(\"figs/views_hist.jpg\")\n",
                ""
            ],
            "metadata": {
                "colab": {
                    "base_uri": "https://localhost:8080/",
                    "height": 333
                },
                "executionInfo": {
                    "elapsed": 439,
                    "status": "ok",
                    "timestamp": 1683736575537,
                    "user": {
                        "displayName": "Matteo Riotto",
                        "userId": "15211004813978485634"
                    },
                    "user_tz": 420
                },
                "id": "fciFVfvpgyXn",
                "outputId": "756c7dd4-181e-47bf-9080-7263f9beb93b",
                "azdata_cell_guid": "36df2f97-594e-4167-9ba4-3296fc3ae1ca",
                "language": "python"
            },
            "outputs": [
                {
                    "data": {
                        "text/plain": "<Figure size 360x216 with 1 Axes>",
                        "image/png": "[encoded data removed]"
                    },
                    "metadata": {
                        "needs_background": "light"
                    },
                    "output_type": "display_data"
                }
            ],
            "execution_count": 5
        },
        {
            "cell_type": "markdown",
            "source": [
                "**Observations****:** This variable has a very uneven distribution, with more than half the videos receiving fewer than 100,000 views. Distribution of view counts \\> 100,000 views is uniform."
            ],
            "metadata": {
                "id": "a6WYKDEPhYid",
                "azdata_cell_guid": "d75b1d9d-da38-4cf4-80a7-fd428b4cc67e"
            },
            "attachments": {}
        },
        {
            "cell_type": "markdown",
            "source": [
                "#### **video\\_like\\_count**\n",
                "\n",
                "<span style=\"color: var(--vscode-foreground);\">We create&nbsp;</span> a box plot to examine the spread of values in the `video_like_count` column."
            ],
            "metadata": {
                "id": "rjk3sE13iPm5",
                "azdata_cell_guid": "6cf1f211-79f3-4b2a-a623-3c0069a2f30f"
            },
            "attachments": {}
        },
        {
            "cell_type": "code",
            "source": [
                "# Create a boxplot to visualize distribution of `video_like_count`\n",
                "plt.figure(figsize=(10,1))\n",
                "plt.title('video_like_count')\n",
                "sns.boxplot(x=data['video_like_count'])\n",
                ""
            ],
            "metadata": {
                "colab": {
                    "base_uri": "https://localhost:8080/",
                    "height": 179
                },
                "executionInfo": {
                    "elapsed": 285,
                    "status": "ok",
                    "timestamp": 1683819429319,
                    "user": {
                        "displayName": "Matteo Riotto",
                        "userId": "15211004813978485634"
                    },
                    "user_tz": 420
                },
                "id": "N0UVdeRUzEEF",
                "outputId": "e3bdc54f-8db5-4279-809a-d31f05c9ad23",
                "azdata_cell_guid": "b585c8f5-16cd-48a0-9ed0-92f917cc09f2",
                "language": "python"
            },
            "outputs": [
                {
                    "data": {
                        "text/plain": "<Figure size 720x72 with 1 Axes>",
                        "image/png": "[encoded data removed]"
                    },
                    "metadata": {
                        "needs_background": "light"
                    },
                    "output_type": "display_data"
                },
                {
                    "data": {
                        "text/plain": "<Axes: title={'center': 'video_like_count'}, xlabel='video_like_count'>"
                    },
                    "metadata": {},
                    "execution_count": 6,
                    "output_type": "execute_result"
                }
            ],
            "execution_count": 6
        },
        {
            "cell_type": "markdown",
            "source": [
                "<span style=\"color: var(--vscode-foreground);\">We create&nbsp;</span> a histogram of the values in the `video_like_count` column to further explore the distribution of this variable."
            ],
            "metadata": {
                "id": "66Jbhtc4GSMj",
                "azdata_cell_guid": "c1012900-77b6-4e86-bfb4-e8d9ef09b05a"
            },
            "attachments": {}
        },
        {
            "cell_type": "code",
            "source": [
                "plt.figure(figsize=(5,3))\n",
                "ax = sns.histplot(data['video_like_count'], bins=range(0,(7*10**5+1),10**5))\n",
                "labels = [0] + [str(i) + 'k' for i in range(100, 701, 100)]\n",
                "ax.set_xticks(range(0,7*10**5+1,10**5), labels=labels)\n",
                "plt.title('Video like count histogram')\n",
                "\n",
                "# save the plot as JPG file\n",
                "plt.savefig(\"figs/likes_hist.jpg\")\n",
                ""
            ],
            "metadata": {
                "colab": {
                    "base_uri": "https://localhost:8080/",
                    "height": 472
                },
                "executionInfo": {
                    "elapsed": 498,
                    "status": "ok",
                    "timestamp": 1683738890327,
                    "user": {
                        "displayName": "Matteo Riotto",
                        "userId": "15211004813978485634"
                    },
                    "user_tz": 420
                },
                "id": "JxXqqfXcmJWO",
                "outputId": "e21d56fc-5f72-4626-9ad1-a16abb1458ce",
                "azdata_cell_guid": "8a6c7427-882a-4c10-aea0-221e478e1c35",
                "language": "python"
            },
            "outputs": [
                {
                    "data": {
                        "text/plain": "<Figure size 360x216 with 1 Axes>",
                        "image/png": "[encoded data removed]"
                    },
                    "metadata": {
                        "needs_background": "light"
                    },
                    "output_type": "display_data"
                }
            ],
            "execution_count": 7
        },
        {
            "cell_type": "markdown",
            "source": [
                "**Observations****:** Similar to view count, there are far more videos with \\< 100,000 likes than there are videos with more. However, in this case, there is more of a taper, as the data skews right, with many videos at the upper extremity of like count."
            ],
            "metadata": {
                "id": "MW45LLkzsSKq",
                "azdata_cell_guid": "f9cfd00c-313e-4c65-b67c-34cf98fed7b6"
            },
            "attachments": {}
        },
        {
            "cell_type": "markdown",
            "source": [
                "#### **video\\_comment\\_count**\n",
                "\n",
                "<span style=\"color: var(--vscode-foreground);\">We create&nbsp;</span> a box plot to examine the spread of values in the `video_comment_count` column."
            ],
            "metadata": {
                "id": "ISgU1qdRxTgH",
                "azdata_cell_guid": "f10f91e0-4489-4441-ab75-949dd2160e0e"
            },
            "attachments": {}
        },
        {
            "cell_type": "code",
            "source": [
                "# Create a boxplot to visualize distribution of `video_comment_count`\n",
                "plt.figure(figsize=(5,1))\n",
                "plt.title('video_comment_count')\n",
                "sns.boxplot(x=data['video_comment_count'])\n",
                ""
            ],
            "metadata": {
                "colab": {
                    "base_uri": "https://localhost:8080/",
                    "height": 179
                },
                "executionInfo": {
                    "elapsed": 436,
                    "status": "ok",
                    "timestamp": 1683819588520,
                    "user": {
                        "displayName": "Matteo Riotto",
                        "userId": "15211004813978485634"
                    },
                    "user_tz": 420
                },
                "id": "-gE1fkGo0eG9",
                "outputId": "0a9f5111-099d-46ca-a857-df50bdb3028b",
                "azdata_cell_guid": "91a7b2ae-f1da-4ff4-8e33-7aae505a5cfb",
                "language": "python"
            },
            "outputs": [
                {
                    "data": {
                        "text/plain": "<Figure size 360x72 with 1 Axes>",
                        "image/png": "[encoded data removed]"
                    },
                    "metadata": {
                        "needs_background": "light"
                    },
                    "output_type": "display_data"
                },
                {
                    "data": {
                        "text/plain": "<Axes: title={'center': 'video_comment_count'}, xlabel='video_comment_count'>"
                    },
                    "metadata": {},
                    "execution_count": 8,
                    "output_type": "execute_result"
                }
            ],
            "execution_count": 8
        },
        {
            "cell_type": "markdown",
            "source": [
                "<span style=\"color: var(--vscode-foreground);\">We create&nbsp;</span> a histogram of the values in the `video_comment_count` column to further explore the distribution of this variable."
            ],
            "metadata": {
                "id": "u1igi-RFGWEh",
                "azdata_cell_guid": "0ad0dfa0-b9f9-4fe2-9d83-483b5613fc08"
            },
            "attachments": {}
        },
        {
            "cell_type": "code",
            "source": [
                "plt.figure(figsize=(5,3))\n",
                "sns.histplot(data['video_comment_count'], bins=range(0,(3001),100))\n",
                "plt.title('Video comment count histogram')\n",
                "\n",
                "# save the plot as JPG file\n",
                "plt.savefig(\"figs/comments_hist.jpg\")\n",
                ""
            ],
            "metadata": {
                "colab": {
                    "base_uri": "https://localhost:8080/",
                    "height": 333
                },
                "executionInfo": {
                    "elapsed": 269,
                    "status": "ok",
                    "timestamp": 1683765293744,
                    "user": {
                        "displayName": "Matteo Riotto",
                        "userId": "15211004813978485634"
                    },
                    "user_tz": 420
                },
                "id": "a7npAOp-xYAq",
                "outputId": "174969e8-24b0-4d22-c6f2-c8027e3d13d0",
                "azdata_cell_guid": "f9856438-7690-468a-9b30-aaacec5fe462",
                "language": "python"
            },
            "outputs": [
                {
                    "data": {
                        "text/plain": "<Figure size 360x216 with 1 Axes>",
                        "image/png": "[encoded data removed]"
                    },
                    "metadata": {
                        "needs_background": "light"
                    },
                    "output_type": "display_data"
                }
            ],
            "execution_count": 9
        },
        {
            "cell_type": "markdown",
            "source": [
                "**Observations****:** Again, the vast majority of videos are grouped at the bottom of the range of values for video comment count. Most videos have fewer than 100 comments. The distribution is very right-skewed."
            ],
            "metadata": {
                "id": "J4duk-S5xlLK",
                "azdata_cell_guid": "8acbff4f-11ee-41e2-a685-a13b7aa9cb2b"
            },
            "attachments": {}
        },
        {
            "cell_type": "markdown",
            "source": [
                "#### **video\\_share\\_count**\n",
                "\n",
                "<span style=\"color: var(--vscode-foreground);\">We create&nbsp;</span> a box plot to examine the spread of values in the `video_share_count` column."
            ],
            "metadata": {
                "id": "4ALfCaTqMCX1",
                "azdata_cell_guid": "c07051e4-86fe-467e-aa10-2c32b6940da6"
            },
            "attachments": {}
        },
        {
            "cell_type": "code",
            "source": [
                "# Create a boxplot to visualize distribution of `video_share_count`\n",
                "plt.figure(figsize=(5,1))\n",
                "plt.title('video_share_count')\n",
                "sns.boxplot(x=data['video_share_count'])\n",
                ""
            ],
            "metadata": {
                "colab": {
                    "base_uri": "https://localhost:8080/",
                    "height": 179
                },
                "executionInfo": {
                    "elapsed": 222,
                    "status": "ok",
                    "timestamp": 1683819630628,
                    "user": {
                        "displayName": "Matteo Riotto",
                        "userId": "15211004813978485634"
                    },
                    "user_tz": 420
                },
                "id": "qJuWcgRTLg3p",
                "outputId": "8a8d3721-2afd-4460-d0a0-5ed5cad9f693",
                "azdata_cell_guid": "422f7101-b6f0-4d66-8bea-0bf4696fd6de",
                "language": "python"
            },
            "outputs": [
                {
                    "data": {
                        "text/plain": "<Figure size 360x72 with 1 Axes>",
                        "image/png": "[encoded data removed]"
                    },
                    "metadata": {
                        "needs_background": "light"
                    },
                    "output_type": "display_data"
                },
                {
                    "data": {
                        "text/plain": "<Axes: title={'center': 'video_share_count'}, xlabel='video_share_count'>"
                    },
                    "metadata": {},
                    "execution_count": 10,
                    "output_type": "execute_result"
                }
            ],
            "execution_count": 10
        },
        {
            "cell_type": "markdown",
            "source": [
                "<span style=\"color: var(--vscode-foreground);\">We create&nbsp;</span> a histogram of the values in the `video_share_count` column to further explore the distribution of this variable."
            ],
            "metadata": {
                "id": "6EQmuRSKMe5j",
                "azdata_cell_guid": "3865b32e-1691-4a19-b467-3895820bed15"
            },
            "attachments": {}
        },
        {
            "cell_type": "code",
            "source": [
                "plt.figure(figsize=(5,3))\n",
                "sns.histplot(data['video_share_count'], bins=range(0,(270001),10000))\n",
                "plt.title('Video share count histogram')\n",
                "\n",
                "# save the plot as JPG file\n",
                "plt.savefig(\"figs/shares_hist.jpg\")\n",
                ""
            ],
            "metadata": {
                "colab": {
                    "base_uri": "https://localhost:8080/",
                    "height": 333
                },
                "executionInfo": {
                    "elapsed": 552,
                    "status": "ok",
                    "timestamp": 1683765014055,
                    "user": {
                        "displayName": "Matteo Riotto",
                        "userId": "15211004813978485634"
                    },
                    "user_tz": 420
                },
                "id": "zKU-EyM9Mpvm",
                "outputId": "be3f4ad6-adce-45b2-edd5-5b61e433878e",
                "azdata_cell_guid": "3f80311d-d5c2-491c-83d5-638fd2dafdf9",
                "language": "python"
            },
            "outputs": [
                {
                    "data": {
                        "text/plain": "<Figure size 360x216 with 1 Axes>",
                        "image/png": "[encoded data removed]"
                    },
                    "metadata": {
                        "needs_background": "light"
                    },
                    "output_type": "display_data"
                }
            ],
            "execution_count": 11
        },
        {
            "cell_type": "markdown",
            "source": [
                "**Observations****:** The overwhelming majority of videos had fewer than 10,000 shares. The distribution is very skewed to the right."
            ],
            "metadata": {
                "id": "AGLQlvkVNb8Z",
                "azdata_cell_guid": "87329264-edd0-4d44-adca-0a74b5df8480"
            },
            "attachments": {}
        },
        {
            "cell_type": "markdown",
            "source": [
                "#### **video\\_download\\_count**\n",
                "\n",
                "<span style=\"color: var(--vscode-foreground);\">We create&nbsp;</span> a box plot to examine the spread of values in the `video_download_count` column."
            ],
            "metadata": {
                "id": "X0MaskFAMIzN",
                "azdata_cell_guid": "aeef3c24-ec1b-4f12-9a14-7e0c3748e7d5"
            },
            "attachments": {}
        },
        {
            "cell_type": "code",
            "source": [
                "# Create a boxplot to visualize distribution of `video_download_count`\n",
                "plt.figure(figsize=(5,1))\n",
                "plt.title('video_download_count')\n",
                "sns.boxplot(x=data['video_download_count'])\n",
                ""
            ],
            "metadata": {
                "colab": {
                    "base_uri": "https://localhost:8080/",
                    "height": 179
                },
                "executionInfo": {
                    "elapsed": 475,
                    "status": "ok",
                    "timestamp": 1683819648318,
                    "user": {
                        "displayName": "Matteo Riotto",
                        "userId": "15211004813978485634"
                    },
                    "user_tz": 420
                },
                "id": "-ccCltgjMIBI",
                "outputId": "ae884a66-72e3-4bf1-8530-9dfc77449cbd",
                "azdata_cell_guid": "0a8ffa17-4bfd-4cd6-b548-c9f0e5fd2567",
                "language": "python"
            },
            "outputs": [
                {
                    "data": {
                        "text/plain": "<Figure size 360x72 with 1 Axes>",
                        "image/png": "[encoded data removed]"
                    },
                    "metadata": {
                        "needs_background": "light"
                    },
                    "output_type": "display_data"
                },
                {
                    "data": {
                        "text/plain": "<Axes: title={'center': 'video_download_count'}, xlabel='video_download_count'>"
                    },
                    "metadata": {},
                    "execution_count": 12,
                    "output_type": "execute_result"
                }
            ],
            "execution_count": 12
        },
        {
            "cell_type": "markdown",
            "source": [
                "<span style=\"color: var(--vscode-foreground);\">We create&nbsp;</span> a histogram of the values in the `video_download_count` column to further explore the distribution of this variable."
            ],
            "metadata": {
                "id": "t1o-8aKBMiok",
                "azdata_cell_guid": "62cffff6-e604-4a45-9f78-9b351557d79d"
            },
            "attachments": {}
        },
        {
            "cell_type": "code",
            "source": [
                "plt.figure(figsize=(5,3))\n",
                "sns.histplot(data['video_download_count'], bins=range(0,(15001),500))\n",
                "plt.title('Video download count histogram')\n",
                "\n",
                "# save the plot as JPG file\n",
                "plt.savefig(\"figs/download_hist.jpg\")\n",
                ""
            ],
            "metadata": {
                "colab": {
                    "base_uri": "https://localhost:8080/",
                    "height": 333
                },
                "executionInfo": {
                    "elapsed": 583,
                    "status": "ok",
                    "timestamp": 1683765138158,
                    "user": {
                        "displayName": "Matteo Riotto",
                        "userId": "15211004813978485634"
                    },
                    "user_tz": 420
                },
                "id": "ZyIpdU7RM8fN",
                "outputId": "3daff7b2-088c-4797-bb8b-3186e5947786",
                "azdata_cell_guid": "27f91a49-2ea5-49db-9339-0c4c90cce04a",
                "language": "python"
            },
            "outputs": [
                {
                    "data": {
                        "text/plain": "<Figure size 360x216 with 1 Axes>",
                        "image/png": "[encoded data removed]"
                    },
                    "metadata": {
                        "needs_background": "light"
                    },
                    "output_type": "display_data"
                }
            ],
            "execution_count": 13
        },
        {
            "cell_type": "markdown",
            "source": [
                "**Observations:** The majority of videos were downloaded fewer than 500 times, but some were downloaded over 12,000 times. Again, the data is very skewed to the right."
            ],
            "metadata": {
                "id": "S2aGmRfgODxB",
                "azdata_cell_guid": "ee289d90-a1a2-4224-9ba8-7394b76c7870"
            },
            "attachments": {}
        },
        {
            "cell_type": "markdown",
            "source": [
                "#### **Claim status by verification status**\n",
                "\n",
                "Now, we create a histogram with four bars: one for each combination of claim status and verification status."
            ],
            "metadata": {
                "id": "-VlVsZEFmbGW",
                "azdata_cell_guid": "4f85b864-7ac0-435f-a0ab-ab3379b62480"
            },
            "attachments": {}
        },
        {
            "cell_type": "code",
            "source": [
                "plt.figure(figsize=(7,4))\n",
                "sns.histplot(data=data,\n",
                "             x='claim_status',\n",
                "             hue='verified_status',\n",
                "             multiple='dodge',\n",
                "             shrink=0.9)\n",
                "plt.title('Claims by verification status histogram')\n",
                "\n",
                "# save the plot as JPG file\n",
                "plt.savefig(\"figs/claims_by_verif.jpg\")\n",
                ""
            ],
            "metadata": {
                "colab": {
                    "base_uri": "https://localhost:8080/",
                    "height": 410
                },
                "executionInfo": {
                    "elapsed": 914,
                    "status": "ok",
                    "timestamp": 1683754656383,
                    "user": {
                        "displayName": "Matteo Riotto",
                        "userId": "15211004813978485634"
                    },
                    "user_tz": 420
                },
                "id": "c0jPxs-fk95V",
                "outputId": "a5fdaa22-76d3-416b-8562-20a40f36a1e9",
                "azdata_cell_guid": "e1ff4b7f-2d14-49f4-a7b6-e1667153b1eb",
                "language": "python"
            },
            "outputs": [
                {
                    "data": {
                        "text/plain": "<Figure size 504x288 with 1 Axes>",
                        "image/png": "[encoded data removed]"
                    },
                    "metadata": {
                        "needs_background": "light"
                    },
                    "output_type": "display_data"
                }
            ],
            "execution_count": 14
        },
        {
            "cell_type": "markdown",
            "source": [
                "**Observations****:** There are far fewer verified users than unverified users, but if a user _is_ verified, they are much more likely to post opinions."
            ],
            "metadata": {
                "id": "WSFLq7CFmxxJ",
                "azdata_cell_guid": "ce630d18-ee0d-4ecb-a71f-812a65a97119"
            },
            "attachments": {}
        },
        {
            "cell_type": "markdown",
            "source": [
                "#### **Claim status by author ban status**"
            ],
            "metadata": {
                "id": "9rNLOqp-M4_1",
                "azdata_cell_guid": "66a7abc7-02c1-4955-a58d-3e8e1f50a6e4"
            },
            "attachments": {}
        },
        {
            "cell_type": "code",
            "source": [
                "fig = plt.figure(figsize=(7,4))\n",
                "sns.histplot(data, x='claim_status', hue='author_ban_status',\n",
                "             multiple='dodge',\n",
                "             hue_order=['active', 'under review', 'banned'],\n",
                "             shrink=0.9,\n",
                "             palette={'active':'green', 'under review':'orange', 'banned':'red'},\n",
                "             alpha=0.5)\n",
                "plt.title('Claim status by author ban status - counts')\n",
                "\n",
                "# save the plot as JPG file\n",
                "plt.savefig(\"figs/claims_by_ban.jpg\")\n",
                ""
            ],
            "metadata": {
                "colab": {
                    "base_uri": "https://localhost:8080/",
                    "height": 410
                },
                "executionInfo": {
                    "elapsed": 559,
                    "status": "ok",
                    "timestamp": 1683753969556,
                    "user": {
                        "displayName": "Matteo Riotto",
                        "userId": "15211004813978485634"
                    },
                    "user_tz": 420
                },
                "id": "_sB88pHxzDTx",
                "outputId": "b447dad0-bc17-4ca6-c093-0d9deb9315e4",
                "azdata_cell_guid": "524b5cc4-40f2-4a4a-a410-193a64669072",
                "language": "python"
            },
            "outputs": [
                {
                    "data": {
                        "text/plain": "<Figure size 504x288 with 1 Axes>",
                        "image/png": "[encoded data removed]"
                    },
                    "metadata": {
                        "needs_background": "light"
                    },
                    "output_type": "display_data"
                }
            ],
            "execution_count": 15
        },
        {
            "cell_type": "markdown",
            "source": [
                "**Observations****:** For both claims and opinions, there are many more active authors than banned authors or authors under review; however, the proportion of active authors is far greater for opinion videos than for claim videos. Again, it seems that authors who post claim videos are more likely to come under review and/or get banned."
            ],
            "metadata": {
                "id": "K6nOURMvNTMZ",
                "azdata_cell_guid": "0a132b2b-9fcd-4f4c-942f-bb20dec0e151"
            },
            "attachments": {}
        },
        {
            "cell_type": "markdown",
            "source": [
                "#### **Median view counts by ban status**\n",
                "\n",
                "<span style=\"color: var(--vscode-foreground);\">We create&nbsp;</span> a bar plot with three bars: one for each author ban status. The height of each bar should correspond with the median number of views for all videos with that author ban status."
            ],
            "metadata": {
                "id": "NaBXzBLSX0g6",
                "azdata_cell_guid": "14e1c026-7019-4282-861a-5b8d59bc60af"
            },
            "attachments": {}
        },
        {
            "cell_type": "code",
            "source": [
                "ban_status_counts = data.groupby(['author_ban_status']).median(\n",
                "    numeric_only=True).reset_index()\n",
                "\n",
                "fig = plt.figure(figsize=(5,3))\n",
                "sns.barplot(data=ban_status_counts,\n",
                "            x='author_ban_status',\n",
                "            y='video_view_count',\n",
                "            order=['active', 'under review', 'banned'],\n",
                "            palette={'active':'green', 'under review':'orange', 'banned':'red'},\n",
                "            alpha=0.5)\n",
                "plt.title('Median view count by ban status')\n",
                "\n",
                "# save the plot as JPG file\n",
                "plt.savefig(\"figs/views_by_ban.jpg\")\n",
                ""
            ],
            "metadata": {
                "colab": {
                    "base_uri": "https://localhost:8080/",
                    "height": 333
                },
                "executionInfo": {
                    "elapsed": 486,
                    "status": "ok",
                    "timestamp": 1683757572226,
                    "user": {
                        "displayName": "Matteo Riotto",
                        "userId": "15211004813978485634"
                    },
                    "user_tz": 420
                },
                "id": "rMTmqn48PeEB",
                "outputId": "88ecac2e-6eab-4a46-e8c5-2c4797214e26",
                "azdata_cell_guid": "730b3566-3c18-4054-a8d2-fd06536abcfa",
                "language": "python"
            },
            "outputs": [
                {
                    "name": "stderr",
                    "text": "<ipython-input-16-218b631a0036>:5: FutureWarning: \n\nPassing `palette` without assigning `hue` is deprecated and will be removed in v0.14.0. Assign the `x` variable to `hue` and set `legend=False` for the same effect.\n\n  sns.barplot(data=ban_status_counts,\n",
                    "output_type": "stream"
                },
                {
                    "data": {
                        "text/plain": "<Figure size 360x216 with 1 Axes>",
                        "image/png": "[encoded data removed]"
                    },
                    "metadata": {
                        "needs_background": "light"
                    },
                    "output_type": "display_data"
                }
            ],
            "execution_count": 16
        },
        {
            "cell_type": "markdown",
            "source": [
                "**Observations****:** The median view counts for non-active authors are many times greater than the median view count for active authors. Since you know that non-active authors are more likely to post claims, and that videos by non-active authors get far more views on aggregate than videos by active authors, then `video_view_count` might be a good indicator of claim status.\n",
                "\n",
                "In fact, a quick check of the median view count by claim status bears out this assessment:"
            ],
            "metadata": {
                "id": "Fj7wHAsXtrjp",
                "azdata_cell_guid": "87d171c8-71d8-4e1a-a3e1-1a7a4beaf387"
            },
            "attachments": {}
        },
        {
            "cell_type": "code",
            "source": [
                "data.groupby('claim_status')['video_view_count'].median()"
            ],
            "metadata": {
                "colab": {
                    "base_uri": "https://localhost:8080/"
                },
                "executionInfo": {
                    "elapsed": 8,
                    "status": "ok",
                    "timestamp": 1683763664407,
                    "user": {
                        "displayName": "Matteo Riotto",
                        "userId": "15211004813978485634"
                    },
                    "user_tz": 420
                },
                "id": "edgeWhPeIjyc",
                "outputId": "8a5096c6-50df-45ff-b70b-126e4b963aff",
                "azdata_cell_guid": "fc4dbc76-e39f-4ed2-b27f-a087b6a5fbab",
                "language": "python"
            },
            "outputs": [
                {
                    "data": {
                        "text/plain": "claim_status\nclaim      501555.0\nopinion      4953.0\nName: video_view_count, dtype: float64"
                    },
                    "metadata": {},
                    "execution_count": 17,
                    "output_type": "execute_result"
                }
            ],
            "execution_count": 17
        },
        {
            "cell_type": "markdown",
            "source": [
                "#### **Total views by claim status**\n",
                "\n",
                "<span style=\"color: var(--vscode-foreground);\">We create&nbsp;</span> a pie graph that depicts the proportions of total views for claim videos and total views for opinion videos."
            ],
            "metadata": {
                "id": "qS7Pwag6yZzP",
                "azdata_cell_guid": "d5248ab4-4e05-4d49-aa55-18f2d3e72aac"
            },
            "attachments": {}
        },
        {
            "cell_type": "code",
            "source": [
                "fig = plt.figure(figsize=(3,3))\n",
                "plt.pie(data.groupby('claim_status')['video_view_count'].sum(), labels=['claim', 'opinion'])\n",
                "plt.title('Total views by video claim status')\n",
                "\n",
                "# save the plot as JPG file\n",
                "plt.savefig(\"figs/video_vs_claims.jpg\")\n",
                ""
            ],
            "metadata": {
                "colab": {
                    "base_uri": "https://localhost:8080/",
                    "height": 290
                },
                "executionInfo": {
                    "elapsed": 252,
                    "status": "ok",
                    "timestamp": 1683757098084,
                    "user": {
                        "displayName": "Matteo Riotto",
                        "userId": "15211004813978485634"
                    },
                    "user_tz": 420
                },
                "id": "AgwfWMnxtq--",
                "outputId": "deb14179-1c17-468f-b586-72fab43f544b",
                "azdata_cell_guid": "14227b26-2c28-4040-9a1c-6e874d7ef62e",
                "language": "python"
            },
            "outputs": [
                {
                    "data": {
                        "text/plain": "<Figure size 216x216 with 1 Axes>",
                        "image/png": "[encoded data removed]"
                    },
                    "metadata": {},
                    "output_type": "display_data"
                }
            ],
            "execution_count": 18
        },
        {
            "cell_type": "markdown",
            "source": [
                "**Observations****:** The overall view count is dominated by claim videos even though there are roughly the same number of each video in the dataset."
            ],
            "metadata": {
                "id": "Lyns6xZ9ZwrA",
                "azdata_cell_guid": "98ddbc2d-4b20-46cb-9db9-a53a734c47c1"
            },
            "attachments": {}
        },
        {
            "cell_type": "markdown",
            "source": [
                "## **3: Determine Outliers**\n",
                "\n",
                "<span style=\"color: var(--vscode-foreground);\">So far, it seems that a video's engagement level is strongly correlated with its claim status. There's no reason to believe that any of the values in the TikTok data are erroneously captured, and they align with expectation of how social media works: a very small proportion of videos get super high engagement levels. That's the nature of viral content.</span>  \n",
                "\n",
                "Nonetheless, when <span style=\"color: var(--vscode-foreground);\">building predictive models, the presence of outliers can be problematic. To combat these issues, we </span> <span style=\"color: var(--vscode-foreground);\">calculate the interquartile range (IQR) and set a threshold that is 1.5 * IQR above the 3rd quartile.</span>\n",
                "\n",
                "In this TikTok dataset, the values for the count variables are not normally distributed. They are heavily skewed to the right. One way of modifying the outlier threshold is by calculating the **median** value for each variable and then adding 1.5 \\* IQR. This results in a threshold that is, in this case, much lower than it would be if we used the 3rd quartile.\n",
                "\n",
                "We write a for-loop that iterates over the column names of each count variable. For each iteration:\n",
                "\n",
                "1. Calculate the IQR of the column\n",
                "2. Calculate the median of the column\n",
                "3. Calculate the outlier threshold (median + 1.5 \\* IQR)\n",
                "4. Calculate the numer of videos with a count in that column that exceeds the outlier threshold\n",
                "5. Print \"Number of outliers, {column name}: {outlier count}\""
            ],
            "metadata": {
                "id": "YHvDB0M3tM4q",
                "azdata_cell_guid": "396bb6c8-25dc-44e5-8c83-2ae564bccd2f"
            },
            "attachments": {}
        },
        {
            "cell_type": "code",
            "source": [
                "count_cols = ['video_view_count',\n",
                "              'video_like_count',\n",
                "              'video_share_count',\n",
                "              'video_download_count',\n",
                "              'video_comment_count',\n",
                "              ]\n",
                "\n",
                "for column in count_cols:\n",
                "    q1 = data[column].quantile(0.25)\n",
                "    q3 = data[column].quantile(0.75)\n",
                "    iqr = q3 - q1\n",
                "    median = data[column].median()\n",
                "    outlier_threshold = median + 1.5*iqr\n",
                "\n",
                "    # Count the number of values that exceed the outlier threshold\n",
                "    outlier_count = (data[column] > outlier_threshold).sum()\n",
                "    print(f'Number of outliers, {column}:', outlier_count)"
            ],
            "metadata": {
                "colab": {
                    "base_uri": "https://localhost:8080/"
                },
                "executionInfo": {
                    "elapsed": 6,
                    "status": "ok",
                    "timestamp": 1683760208346,
                    "user": {
                        "displayName": "Matteo Riotto",
                        "userId": "15211004813978485634"
                    },
                    "user_tz": 420
                },
                "id": "i9cRIwpd5An4",
                "outputId": "db711c98-4674-46a2-dd12-c47419a506b9",
                "azdata_cell_guid": "98f0e574-08b1-4daa-9886-95d4ed925445",
                "language": "python"
            },
            "outputs": [
                {
                    "name": "stdout",
                    "text": "Number of outliers, video_view_count: 2343\nNumber of outliers, video_like_count: 3468\nNumber of outliers, video_share_count: 3732\nNumber of outliers, video_download_count: 3733\nNumber of outliers, video_comment_count: 3882\n",
                    "output_type": "stream"
                }
            ],
            "execution_count": 19
        },
        {
            "cell_type": "markdown",
            "source": [
                "## **3: Present the Data**\n",
                "\n",
                "### Google Slides EDA presentation link [HERE](https://docs.google.com/presentation/d/1M6YVY6SPIpz14d4j1wdiL_ziZN1wZVp9B1ZU7bfPz5Q/edit?usp=sharing)."
            ],
            "metadata": {
                "id": "h4fJEkYDMKIL",
                "azdata_cell_guid": "82fed949-4359-40a2-bf79-834b512ee188"
            },
            "attachments": {}
        }
    ]
}