{
    "metadata": {
        "kernelspec": {
            "name": "python3",
            "display_name": "Python 3",
            "language": "python"
        },
        "language_info": {
            "name": "python",
            "version": "3.10.4",
            "mimetype": "text/x-python",
            "codemirror_mode": {
                "name": "ipython",
                "version": 3
            },
            "pygments_lexer": "ipython3",
            "nbconvert_exporter": "python",
            "file_extension": ".py"
        },
        "colab": {
            "provenance": []
        }
    },
    "nbformat_minor": 2,
    "nbformat": 4,
    "cells": [
        {
            "cell_type": "markdown",
            "source": [
                "# **TikTok Claims Regression Analysis**\n",
                "\n",
                "**The goal** of this fourth notebook is to to build a logistic regression model that best predicts **verified status** to explore how video characteristics relate to verified users. The results may be used to inform the _final model_ related to predicting whether a video is a claim vs an opinion.\n",
                "\n",
                "**Part 1:** Load the Data\n",
                "\n",
                "**Part 2:** Prepare and Clean the Data\n",
                "\n",
                "**Part 3:** Features and Correlations\n",
                "\n",
                "**Part 4:** <span style=\"color: var(--vscode-foreground);\">Build, Train, and Evaluate Model</span>\n",
                "\n",
                "**Part 5:** Conclusions"
            ],
            "metadata": {
                "id": "DtNBZFHO3M7n",
                "azdata_cell_guid": "7f715383-fb89-4a14-aea5-0c1d21b7c09e"
            },
            "attachments": {}
        },
        {
            "cell_type": "markdown",
            "source": [
                "## **1: Load the Data**\n",
                "\n",
                "### **Build dataframe**"
            ],
            "metadata": {
                "id": "D8qYlvkLQsf2",
                "azdata_cell_guid": "b1ca29fd-aeee-433d-92a3-4a1fdfff1d66"
            },
            "attachments": {}
        },
        {
            "cell_type": "code",
            "source": [
                "# Import packages for data manipulation\n",
                "import pandas as pd\n",
                "import numpy as np\n",
                "\n",
                "# Import packages for data visualization\n",
                "import matplotlib.pyplot as plt\n",
                "import seaborn as sns\n",
                "\n",
                "# Import packages for data preprocessing\n",
                "from sklearn.preprocessing import OneHotEncoder\n",
                "from sklearn.feature_extraction.text import CountVectorizer, TfidfVectorizer\n",
                "from sklearn.utils import resample\n",
                "\n",
                "# Import packages for data modeling\n",
                "from sklearn.model_selection import train_test_split\n",
                "from sklearn.linear_model import LogisticRegression\n",
                "from sklearn.metrics import classification_report\n",
                "from sklearn.metrics import confusion_matrix, ConfusionMatrixDisplay\n",
                "\n",
                "# Load dataset into dataframe\n",
                "data = pd.read_csv(\"tiktok_dataset.csv\")"
            ],
            "metadata": {
                "id": "tCni9wAGphb0",
                "azdata_cell_guid": "ec6d8849-61b7-4d29-9f8d-3d3af7942d4f",
                "language": "python"
            },
            "outputs": [],
            "execution_count": 59
        },
        {
            "cell_type": "markdown",
            "source": [
                "## **2a. Explore data with EDA**\n",
                "\n",
                "### \n",
                "\n",
                "Analyze and discover data, looking for correlations, missing data, outliers, and duplicates."
            ],
            "metadata": {
                "id": "rIcDG2e66wt9",
                "azdata_cell_guid": "b830acf6-525c-4263-a732-869ec5e331b9"
            },
            "attachments": {}
        },
        {
            "cell_type": "markdown",
            "source": [
                "Inspect the first five rows of the dataframe."
            ],
            "metadata": {
                "id": "JBHl90JIRuXk",
                "azdata_cell_guid": "5ed4b230-7375-4835-b2a5-e763934ed3cb"
            }
        },
        {
            "cell_type": "code",
            "source": [
                "# Display first few rows\n",
                "data.head()"
            ],
            "metadata": {
                "colab": {
                    "base_uri": "https://localhost:8080/",
                    "height": 357
                },
                "executionInfo": {
                    "elapsed": 193,
                    "status": "ok",
                    "timestamp": 1671474896907,
                    "user": {
                        "displayName": "Lavanya Vijayan",
                        "userId": "09394087000910120547"
                    },
                    "user_tz": 480
                },
                "id": "2rfk95MLp4a_",
                "outputId": "974b5490-4322-4277-b420-c9ae130b6b00",
                "azdata_cell_guid": "6440c224-b5d2-4047-a334-d6870f2fc07d",
                "language": "python"
            },
            "outputs": [
                {
                    "data": {
                        "text/plain": "   # claim_status    video_id  video_duration_sec   \n0  1        claim  7017666017                  59  \\\n1  2        claim  4014381136                  32   \n2  3        claim  9859838091                  31   \n3  4        claim  1866847991                  25   \n4  5        claim  7105231098                  19   \n\n                            video_transcription_text verified_status   \n0  someone shared with me that drone deliveries a...    not verified  \\\n1  someone shared with me that there are more mic...    not verified   \n2  someone shared with me that american industria...    not verified   \n3  someone shared with me that the metro of st. p...    not verified   \n4  someone shared with me that the number of busi...    not verified   \n\n  author_ban_status  video_view_count  video_like_count  video_share_count   \n0      under review          343296.0           19425.0              241.0  \\\n1            active          140877.0           77355.0            19034.0   \n2            active          902185.0           97690.0             2858.0   \n3            active          437506.0          239954.0            34812.0   \n4            active           56167.0           34987.0             4110.0   \n\n   video_download_count  video_comment_count  \n0                   1.0                  0.0  \n1                1161.0                684.0  \n2                 833.0                329.0  \n3                1234.0                584.0  \n4                 547.0                152.0  ",
                        "text/html": "<div>\n<style scoped>\n    .dataframe tbody tr th:only-of-type {\n        vertical-align: middle;\n    }\n\n    .dataframe tbody tr th {\n        vertical-align: top;\n    }\n\n    .dataframe thead th {\n        text-align: right;\n    }\n</style>\n<table border=\"1\" class=\"dataframe\">\n  <thead>\n    <tr style=\"text-align: right;\">\n      <th></th>\n      <th>#</th>\n      <th>claim_status</th>\n      <th>video_id</th>\n      <th>video_duration_sec</th>\n      <th>video_transcription_text</th>\n      <th>verified_status</th>\n      <th>author_ban_status</th>\n      <th>video_view_count</th>\n      <th>video_like_count</th>\n      <th>video_share_count</th>\n      <th>video_download_count</th>\n      <th>video_comment_count</th>\n    </tr>\n  </thead>\n  <tbody>\n    <tr>\n      <th>0</th>\n      <td>1</td>\n      <td>claim</td>\n      <td>7017666017</td>\n      <td>59</td>\n      <td>someone shared with me that drone deliveries a...</td>\n      <td>not verified</td>\n      <td>under review</td>\n      <td>343296.0</td>\n      <td>19425.0</td>\n      <td>241.0</td>\n      <td>1.0</td>\n      <td>0.0</td>\n    </tr>\n    <tr>\n      <th>1</th>\n      <td>2</td>\n      <td>claim</td>\n      <td>4014381136</td>\n      <td>32</td>\n      <td>someone shared with me that there are more mic...</td>\n      <td>not verified</td>\n      <td>active</td>\n      <td>140877.0</td>\n      <td>77355.0</td>\n      <td>19034.0</td>\n      <td>1161.0</td>\n      <td>684.0</td>\n    </tr>\n    <tr>\n      <th>2</th>\n      <td>3</td>\n      <td>claim</td>\n      <td>9859838091</td>\n      <td>31</td>\n      <td>someone shared with me that american industria...</td>\n      <td>not verified</td>\n      <td>active</td>\n      <td>902185.0</td>\n      <td>97690.0</td>\n      <td>2858.0</td>\n      <td>833.0</td>\n      <td>329.0</td>\n    </tr>\n    <tr>\n      <th>3</th>\n      <td>4</td>\n      <td>claim</td>\n      <td>1866847991</td>\n      <td>25</td>\n      <td>someone shared with me that the metro of st. p...</td>\n      <td>not verified</td>\n      <td>active</td>\n      <td>437506.0</td>\n      <td>239954.0</td>\n      <td>34812.0</td>\n      <td>1234.0</td>\n      <td>584.0</td>\n    </tr>\n    <tr>\n      <th>4</th>\n      <td>5</td>\n      <td>claim</td>\n      <td>7105231098</td>\n      <td>19</td>\n      <td>someone shared with me that the number of busi...</td>\n      <td>not verified</td>\n      <td>active</td>\n      <td>56167.0</td>\n      <td>34987.0</td>\n      <td>4110.0</td>\n      <td>547.0</td>\n      <td>152.0</td>\n    </tr>\n  </tbody>\n</table>\n</div>"
                    },
                    "metadata": {},
                    "execution_count": 60,
                    "output_type": "execute_result"
                }
            ],
            "execution_count": 60
        },
        {
            "cell_type": "markdown",
            "source": [
                "Get the number of rows and columns in the dataset."
            ],
            "metadata": {
                "id": "66KOxKCx977b",
                "azdata_cell_guid": "e0ed605b-c366-4802-979a-552ce87bff60"
            }
        },
        {
            "cell_type": "code",
            "source": [
                "# Get number of rows and columns\n",
                "data.shape"
            ],
            "metadata": {
                "colab": {
                    "base_uri": "https://localhost:8080/"
                },
                "executionInfo": {
                    "elapsed": 11,
                    "status": "ok",
                    "timestamp": 1671474896908,
                    "user": {
                        "displayName": "Lavanya Vijayan",
                        "userId": "09394087000910120547"
                    },
                    "user_tz": 480
                },
                "id": "kYwW-G1WqX3R",
                "outputId": "5c7d6a28-4569-44dc-c91d-e7c89ae9e758",
                "azdata_cell_guid": "5399f93e-e041-48b6-81f8-8bd9c88fa23b",
                "language": "python"
            },
            "outputs": [
                {
                    "data": {
                        "text/plain": "(19382, 12)"
                    },
                    "metadata": {},
                    "execution_count": 61,
                    "output_type": "execute_result"
                }
            ],
            "execution_count": 61
        },
        {
            "cell_type": "markdown",
            "source": [
                "Get the data types of the columns."
            ],
            "metadata": {
                "id": "aP-NbEGdEio8",
                "azdata_cell_guid": "aa84b534-9e44-4cc7-bd39-e8f625026a67"
            }
        },
        {
            "cell_type": "code",
            "source": [
                "# Get data types of columns\n",
                "data.dtypes"
            ],
            "metadata": {
                "colab": {
                    "base_uri": "https://localhost:8080/"
                },
                "executionInfo": {
                    "elapsed": 8,
                    "status": "ok",
                    "timestamp": 1671474896908,
                    "user": {
                        "displayName": "Lavanya Vijayan",
                        "userId": "09394087000910120547"
                    },
                    "user_tz": 480
                },
                "id": "rbpDgrXfEoVj",
                "outputId": "6a71def7-53c2-4c97-d4cb-6f913a08e1fd",
                "azdata_cell_guid": "a1ae5ccd-9587-4e49-b485-40e88eed382a",
                "language": "python"
            },
            "outputs": [
                {
                    "data": {
                        "text/plain": "#                             int64\nclaim_status                 object\nvideo_id                      int64\nvideo_duration_sec            int64\nvideo_transcription_text     object\nverified_status              object\nauthor_ban_status            object\nvideo_view_count            float64\nvideo_like_count            float64\nvideo_share_count           float64\nvideo_download_count        float64\nvideo_comment_count         float64\ndtype: object"
                    },
                    "metadata": {},
                    "execution_count": 62,
                    "output_type": "execute_result"
                }
            ],
            "execution_count": 62
        },
        {
            "cell_type": "markdown",
            "source": [
                "Get basic information about the dataset."
            ],
            "metadata": {
                "id": "URuRVjUZ_Axg",
                "azdata_cell_guid": "f78af25c-acf1-41c6-98dc-ff79cc26c4bc"
            }
        },
        {
            "cell_type": "code",
            "source": [
                "# Get basic information\n",
                "data.info()"
            ],
            "metadata": {
                "colab": {
                    "base_uri": "https://localhost:8080/"
                },
                "executionInfo": {
                    "elapsed": 6,
                    "status": "ok",
                    "timestamp": 1671474896909,
                    "user": {
                        "displayName": "Lavanya Vijayan",
                        "userId": "09394087000910120547"
                    },
                    "user_tz": 480
                },
                "id": "zyyKCGzCp7SS",
                "outputId": "a08ee776-213e-432a-c6c8-98ab29f56977",
                "azdata_cell_guid": "e485cd86-0084-44b3-bbcf-18a70cd86429",
                "language": "python"
            },
            "outputs": [
                {
                    "name": "stdout",
                    "text": "<class 'pandas.core.frame.DataFrame'>\nRangeIndex: 19382 entries, 0 to 19381\nData columns (total 12 columns):\n #   Column                    Non-Null Count  Dtype  \n---  ------                    --------------  -----  \n 0   #                         19382 non-null  int64  \n 1   claim_status              19084 non-null  object \n 2   video_id                  19382 non-null  int64  \n 3   video_duration_sec        19382 non-null  int64  \n 4   video_transcription_text  19084 non-null  object \n 5   verified_status           19382 non-null  object \n 6   author_ban_status         19382 non-null  object \n 7   video_view_count          19084 non-null  float64\n 8   video_like_count          19084 non-null  float64\n 9   video_share_count         19084 non-null  float64\n 10  video_download_count      19084 non-null  float64\n 11  video_comment_count       19084 non-null  float64\ndtypes: float64(5), int64(3), object(4)\nmemory usage: 1.8+ MB\n",
                    "output_type": "stream"
                }
            ],
            "execution_count": 63
        },
        {
            "cell_type": "markdown",
            "source": [
                "Generate basic descriptive statistics about the dataset."
            ],
            "metadata": {
                "id": "0T5Ieb6WB61Q",
                "azdata_cell_guid": "df5993ad-0791-43ca-bfb0-165826dc206a"
            }
        },
        {
            "cell_type": "code",
            "source": [
                "# Generate basic descriptive stats\n",
                "data.describe()"
            ],
            "metadata": {
                "colab": {
                    "base_uri": "https://localhost:8080/",
                    "height": 300
                },
                "executionInfo": {
                    "elapsed": 354,
                    "status": "ok",
                    "timestamp": 1671474897259,
                    "user": {
                        "displayName": "Lavanya Vijayan",
                        "userId": "09394087000910120547"
                    },
                    "user_tz": 480
                },
                "id": "HbpuAS2UqY01",
                "outputId": "e5927446-d3ec-4ea4-98d1-c670a868745b",
                "azdata_cell_guid": "7dd26ce7-6a47-4a7b-9454-79c3fef41077",
                "language": "python"
            },
            "outputs": [
                {
                    "data": {
                        "text/plain": "                  #      video_id  video_duration_sec  video_view_count   \ncount  19382.000000  1.938200e+04        19382.000000      19084.000000  \\\nmean    9691.500000  5.627454e+09           32.421732     254708.558688   \nstd     5595.245794  2.536440e+09           16.229967     322893.280814   \nmin        1.000000  1.234959e+09            5.000000         20.000000   \n25%     4846.250000  3.430417e+09           18.000000       4942.500000   \n50%     9691.500000  5.618664e+09           32.000000       9954.500000   \n75%    14536.750000  7.843960e+09           47.000000     504327.000000   \nmax    19382.000000  9.999873e+09           60.000000     999817.000000   \n\n       video_like_count  video_share_count  video_download_count   \ncount      19084.000000       19084.000000          19084.000000  \\\nmean       84304.636030       16735.248323           1049.429627   \nstd       133420.546814       32036.174350           2004.299894   \nmin            0.000000           0.000000              0.000000   \n25%          810.750000         115.000000              7.000000   \n50%         3403.500000         717.000000             46.000000   \n75%       125020.000000       18222.000000           1156.250000   \nmax       657830.000000      256130.000000          14994.000000   \n\n       video_comment_count  \ncount         19084.000000  \nmean            349.312146  \nstd             799.638865  \nmin               0.000000  \n25%               1.000000  \n50%               9.000000  \n75%             292.000000  \nmax            9599.000000  ",
                        "text/html": "<div>\n<style scoped>\n    .dataframe tbody tr th:only-of-type {\n        vertical-align: middle;\n    }\n\n    .dataframe tbody tr th {\n        vertical-align: top;\n    }\n\n    .dataframe thead th {\n        text-align: right;\n    }\n</style>\n<table border=\"1\" class=\"dataframe\">\n  <thead>\n    <tr style=\"text-align: right;\">\n      <th></th>\n      <th>#</th>\n      <th>video_id</th>\n      <th>video_duration_sec</th>\n      <th>video_view_count</th>\n      <th>video_like_count</th>\n      <th>video_share_count</th>\n      <th>video_download_count</th>\n      <th>video_comment_count</th>\n    </tr>\n  </thead>\n  <tbody>\n    <tr>\n      <th>count</th>\n      <td>19382.000000</td>\n      <td>1.938200e+04</td>\n      <td>19382.000000</td>\n      <td>19084.000000</td>\n      <td>19084.000000</td>\n      <td>19084.000000</td>\n      <td>19084.000000</td>\n      <td>19084.000000</td>\n    </tr>\n    <tr>\n      <th>mean</th>\n      <td>9691.500000</td>\n      <td>5.627454e+09</td>\n      <td>32.421732</td>\n      <td>254708.558688</td>\n      <td>84304.636030</td>\n      <td>16735.248323</td>\n      <td>1049.429627</td>\n      <td>349.312146</td>\n    </tr>\n    <tr>\n      <th>std</th>\n      <td>5595.245794</td>\n      <td>2.536440e+09</td>\n      <td>16.229967</td>\n      <td>322893.280814</td>\n      <td>133420.546814</td>\n      <td>32036.174350</td>\n      <td>2004.299894</td>\n      <td>799.638865</td>\n    </tr>\n    <tr>\n      <th>min</th>\n      <td>1.000000</td>\n      <td>1.234959e+09</td>\n      <td>5.000000</td>\n      <td>20.000000</td>\n      <td>0.000000</td>\n      <td>0.000000</td>\n      <td>0.000000</td>\n      <td>0.000000</td>\n    </tr>\n    <tr>\n      <th>25%</th>\n      <td>4846.250000</td>\n      <td>3.430417e+09</td>\n      <td>18.000000</td>\n      <td>4942.500000</td>\n      <td>810.750000</td>\n      <td>115.000000</td>\n      <td>7.000000</td>\n      <td>1.000000</td>\n    </tr>\n    <tr>\n      <th>50%</th>\n      <td>9691.500000</td>\n      <td>5.618664e+09</td>\n      <td>32.000000</td>\n      <td>9954.500000</td>\n      <td>3403.500000</td>\n      <td>717.000000</td>\n      <td>46.000000</td>\n      <td>9.000000</td>\n    </tr>\n    <tr>\n      <th>75%</th>\n      <td>14536.750000</td>\n      <td>7.843960e+09</td>\n      <td>47.000000</td>\n      <td>504327.000000</td>\n      <td>125020.000000</td>\n      <td>18222.000000</td>\n      <td>1156.250000</td>\n      <td>292.000000</td>\n    </tr>\n    <tr>\n      <th>max</th>\n      <td>19382.000000</td>\n      <td>9.999873e+09</td>\n      <td>60.000000</td>\n      <td>999817.000000</td>\n      <td>657830.000000</td>\n      <td>256130.000000</td>\n      <td>14994.000000</td>\n      <td>9599.000000</td>\n    </tr>\n  </tbody>\n</table>\n</div>"
                    },
                    "metadata": {},
                    "execution_count": 64,
                    "output_type": "execute_result"
                }
            ],
            "execution_count": 64
        },
        {
            "cell_type": "markdown",
            "source": [
                "Check for and handle missing values."
            ],
            "metadata": {
                "id": "9OpeNQDdyIT6",
                "azdata_cell_guid": "70b9867b-0234-4ffa-8688-2188d5f16883"
            }
        },
        {
            "cell_type": "code",
            "source": [
                "# Check for missing values\n",
                "data.isna().sum()"
            ],
            "metadata": {
                "colab": {
                    "base_uri": "https://localhost:8080/"
                },
                "executionInfo": {
                    "elapsed": 11,
                    "status": "ok",
                    "timestamp": 1671474897259,
                    "user": {
                        "displayName": "Lavanya Vijayan",
                        "userId": "09394087000910120547"
                    },
                    "user_tz": 480
                },
                "id": "BrunHcfa7xnT",
                "outputId": "f67fcbe5-f27c-4b97-e5cf-0beeb159ac1d",
                "azdata_cell_guid": "5933f4c3-1dc6-4f47-bae5-d4e9b3f5051f",
                "language": "python"
            },
            "outputs": [
                {
                    "data": {
                        "text/plain": "#                             0\nclaim_status                298\nvideo_id                      0\nvideo_duration_sec            0\nvideo_transcription_text    298\nverified_status               0\nauthor_ban_status             0\nvideo_view_count            298\nvideo_like_count            298\nvideo_share_count           298\nvideo_download_count        298\nvideo_comment_count         298\ndtype: int64"
                    },
                    "metadata": {},
                    "execution_count": 65,
                    "output_type": "execute_result"
                }
            ],
            "execution_count": 65
        },
        {
            "cell_type": "code",
            "source": [
                "# Drop rows with missing values\n",
                "data = data.dropna(axis=0)"
            ],
            "metadata": {
                "id": "SHSj1Hma914I",
                "azdata_cell_guid": "62f91629-7bd9-4877-83fe-b7b04fdb4832",
                "language": "python"
            },
            "outputs": [],
            "execution_count": 66
        },
        {
            "cell_type": "code",
            "source": [
                "# Display first few rows after handling missing values\n",
                "data.head()"
            ],
            "metadata": {
                "colab": {
                    "base_uri": "https://localhost:8080/",
                    "height": 357
                },
                "executionInfo": {
                    "elapsed": 9,
                    "status": "ok",
                    "timestamp": 1671474897260,
                    "user": {
                        "displayName": "Lavanya Vijayan",
                        "userId": "09394087000910120547"
                    },
                    "user_tz": 480
                },
                "id": "ZYUF3xap9_Fa",
                "outputId": "e0c15635-4201-4e01-93ef-fbaa253f7bb1",
                "azdata_cell_guid": "868cca3b-cb89-498d-b394-e6c1cd261772",
                "language": "python"
            },
            "outputs": [
                {
                    "data": {
                        "text/plain": "   # claim_status    video_id  video_duration_sec   \n0  1        claim  7017666017                  59  \\\n1  2        claim  4014381136                  32   \n2  3        claim  9859838091                  31   \n3  4        claim  1866847991                  25   \n4  5        claim  7105231098                  19   \n\n                            video_transcription_text verified_status   \n0  someone shared with me that drone deliveries a...    not verified  \\\n1  someone shared with me that there are more mic...    not verified   \n2  someone shared with me that american industria...    not verified   \n3  someone shared with me that the metro of st. p...    not verified   \n4  someone shared with me that the number of busi...    not verified   \n\n  author_ban_status  video_view_count  video_like_count  video_share_count   \n0      under review          343296.0           19425.0              241.0  \\\n1            active          140877.0           77355.0            19034.0   \n2            active          902185.0           97690.0             2858.0   \n3            active          437506.0          239954.0            34812.0   \n4            active           56167.0           34987.0             4110.0   \n\n   video_download_count  video_comment_count  \n0                   1.0                  0.0  \n1                1161.0                684.0  \n2                 833.0                329.0  \n3                1234.0                584.0  \n4                 547.0                152.0  ",
                        "text/html": "<div>\n<style scoped>\n    .dataframe tbody tr th:only-of-type {\n        vertical-align: middle;\n    }\n\n    .dataframe tbody tr th {\n        vertical-align: top;\n    }\n\n    .dataframe thead th {\n        text-align: right;\n    }\n</style>\n<table border=\"1\" class=\"dataframe\">\n  <thead>\n    <tr style=\"text-align: right;\">\n      <th></th>\n      <th>#</th>\n      <th>claim_status</th>\n      <th>video_id</th>\n      <th>video_duration_sec</th>\n      <th>video_transcription_text</th>\n      <th>verified_status</th>\n      <th>author_ban_status</th>\n      <th>video_view_count</th>\n      <th>video_like_count</th>\n      <th>video_share_count</th>\n      <th>video_download_count</th>\n      <th>video_comment_count</th>\n    </tr>\n  </thead>\n  <tbody>\n    <tr>\n      <th>0</th>\n      <td>1</td>\n      <td>claim</td>\n      <td>7017666017</td>\n      <td>59</td>\n      <td>someone shared with me that drone deliveries a...</td>\n      <td>not verified</td>\n      <td>under review</td>\n      <td>343296.0</td>\n      <td>19425.0</td>\n      <td>241.0</td>\n      <td>1.0</td>\n      <td>0.0</td>\n    </tr>\n    <tr>\n      <th>1</th>\n      <td>2</td>\n      <td>claim</td>\n      <td>4014381136</td>\n      <td>32</td>\n      <td>someone shared with me that there are more mic...</td>\n      <td>not verified</td>\n      <td>active</td>\n      <td>140877.0</td>\n      <td>77355.0</td>\n      <td>19034.0</td>\n      <td>1161.0</td>\n      <td>684.0</td>\n    </tr>\n    <tr>\n      <th>2</th>\n      <td>3</td>\n      <td>claim</td>\n      <td>9859838091</td>\n      <td>31</td>\n      <td>someone shared with me that american industria...</td>\n      <td>not verified</td>\n      <td>active</td>\n      <td>902185.0</td>\n      <td>97690.0</td>\n      <td>2858.0</td>\n      <td>833.0</td>\n      <td>329.0</td>\n    </tr>\n    <tr>\n      <th>3</th>\n      <td>4</td>\n      <td>claim</td>\n      <td>1866847991</td>\n      <td>25</td>\n      <td>someone shared with me that the metro of st. p...</td>\n      <td>not verified</td>\n      <td>active</td>\n      <td>437506.0</td>\n      <td>239954.0</td>\n      <td>34812.0</td>\n      <td>1234.0</td>\n      <td>584.0</td>\n    </tr>\n    <tr>\n      <th>4</th>\n      <td>5</td>\n      <td>claim</td>\n      <td>7105231098</td>\n      <td>19</td>\n      <td>someone shared with me that the number of busi...</td>\n      <td>not verified</td>\n      <td>active</td>\n      <td>56167.0</td>\n      <td>34987.0</td>\n      <td>4110.0</td>\n      <td>547.0</td>\n      <td>152.0</td>\n    </tr>\n  </tbody>\n</table>\n</div>"
                    },
                    "metadata": {},
                    "execution_count": 67,
                    "output_type": "execute_result"
                }
            ],
            "execution_count": 67
        },
        {
            "cell_type": "markdown",
            "source": [
                "Check for and handle duplicates."
            ],
            "metadata": {
                "id": "XcfffpANyNiu",
                "azdata_cell_guid": "13026c88-c37c-40bf-8786-065e27c45a64"
            }
        },
        {
            "cell_type": "code",
            "source": [
                "# Check for duplicates\n",
                "data.duplicated().sum()"
            ],
            "metadata": {
                "colab": {
                    "base_uri": "https://localhost:8080/"
                },
                "executionInfo": {
                    "elapsed": 8,
                    "status": "ok",
                    "timestamp": 1671474897260,
                    "user": {
                        "displayName": "Lavanya Vijayan",
                        "userId": "09394087000910120547"
                    },
                    "user_tz": 480
                },
                "id": "IKaGnWIsiHpH",
                "outputId": "de9d5f4e-4f58-443b-f899-b0c1cb908b9f",
                "azdata_cell_guid": "12b5cdb9-bfcb-4e12-a3a1-936e0f2195c9",
                "language": "python"
            },
            "outputs": [
                {
                    "data": {
                        "text/plain": "0"
                    },
                    "metadata": {},
                    "execution_count": 68,
                    "output_type": "execute_result"
                }
            ],
            "execution_count": 68
        },
        {
            "cell_type": "markdown",
            "source": [
                "**Observations****:** There are no duplicates or missing values in the data."
            ],
            "metadata": {
                "id": "scLLbNSIjAWs",
                "azdata_cell_guid": "0cf6abf9-ca38-46ad-87ce-77448347d9ac"
            },
            "attachments": {}
        },
        {
            "cell_type": "markdown",
            "source": [
                "Check for and handle outliers."
            ],
            "metadata": {
                "id": "k-HcHpGc5Hn7",
                "azdata_cell_guid": "f6ea5112-00ac-4b50-b173-2ae86cfd11e5"
            }
        },
        {
            "cell_type": "code",
            "source": [
                "# Create a boxplot to visualize distribution of `video_duration_sec`\n",
                "plt.figure(figsize=(6,2))\n",
                "plt.title('Boxplot to detect outliers for video_duration_sec', fontsize=12)\n",
                "plt.xticks(fontsize=12)\n",
                "plt.yticks(fontsize=12)\n",
                "sns.boxplot(x=data['video_duration_sec'])\n",
                "plt.show()"
            ],
            "metadata": {
                "colab": {
                    "base_uri": "https://localhost:8080/",
                    "height": 408
                },
                "executionInfo": {
                    "elapsed": 424,
                    "status": "ok",
                    "timestamp": 1671474897678,
                    "user": {
                        "displayName": "Lavanya Vijayan",
                        "userId": "09394087000910120547"
                    },
                    "user_tz": 480
                },
                "id": "Ts_lcV6qUQHq",
                "outputId": "c7ecd58e-0ab2-4a5c-b313-b6330cf54af9",
                "azdata_cell_guid": "49231325-71a1-4822-b80d-d8e81ce1b248",
                "language": "python"
            },
            "outputs": [
                {
                    "data": {
                        "text/plain": "<Figure size 432x144 with 1 Axes>",
                        "image/png": "[encoded data removed]"
                    },
                    "metadata": {
                        "needs_background": "light"
                    },
                    "output_type": "display_data"
                }
            ],
            "execution_count": 69
        },
        {
            "cell_type": "code",
            "source": [
                "# Create a boxplot to visualize distribution of `video_view_count`\n",
                "plt.figure(figsize=(6,2))\n",
                "plt.title('Boxplot to detect outliers for video_view_count', fontsize=12)\n",
                "plt.xticks(fontsize=12)\n",
                "plt.yticks(fontsize=12)\n",
                "sns.boxplot(x=data['video_view_count'])\n",
                "plt.show()"
            ],
            "metadata": {
                "colab": {
                    "base_uri": "https://localhost:8080/",
                    "height": 408
                },
                "executionInfo": {
                    "elapsed": 5,
                    "status": "ok",
                    "timestamp": 1671474897679,
                    "user": {
                        "displayName": "Lavanya Vijayan",
                        "userId": "09394087000910120547"
                    },
                    "user_tz": 480
                },
                "id": "qlUccI91a4NH",
                "outputId": "18e6a47f-7e66-483a-cc2a-2701191efb98",
                "azdata_cell_guid": "b86d40fd-dbdb-4748-8618-43d59501278f",
                "language": "python"
            },
            "outputs": [
                {
                    "data": {
                        "text/plain": "<Figure size 432x144 with 1 Axes>",
                        "image/png": "[encoded data removed]"
                    },
                    "metadata": {
                        "needs_background": "light"
                    },
                    "output_type": "display_data"
                }
            ],
            "execution_count": 70
        },
        {
            "cell_type": "code",
            "source": [
                "# Create a boxplot to visualize distribution of `video_like_count`\n",
                "plt.figure(figsize=(6,2))\n",
                "plt.title('Boxplot to detect outliers for video_like_count', fontsize=12)\n",
                "plt.xticks(fontsize=12)\n",
                "plt.yticks(fontsize=12)\n",
                "sns.boxplot(x=data['video_like_count'])\n",
                "plt.show()"
            ],
            "metadata": {
                "colab": {
                    "base_uri": "https://localhost:8080/",
                    "height": 408
                },
                "executionInfo": {
                    "elapsed": 402,
                    "status": "ok",
                    "timestamp": 1671474898077,
                    "user": {
                        "displayName": "Lavanya Vijayan",
                        "userId": "09394087000910120547"
                    },
                    "user_tz": 480
                },
                "id": "N0UVdeRUzEEF",
                "outputId": "1c560202-70c6-4897-ed9b-22046a3ba5c0",
                "azdata_cell_guid": "f4077358-9873-4796-86c8-c823f221d78f",
                "language": "python"
            },
            "outputs": [
                {
                    "data": {
                        "text/plain": "<Figure size 432x144 with 1 Axes>",
                        "image/png": "[encoded data removed]"
                    },
                    "metadata": {
                        "needs_background": "light"
                    },
                    "output_type": "display_data"
                }
            ],
            "execution_count": 71
        },
        {
            "cell_type": "code",
            "source": [
                "# Create a boxplot to visualize distribution of `video_comment_count`\n",
                "plt.figure(figsize=(6,2))\n",
                "plt.title('Boxplot to detect outliers for video_comment_count', fontsize=12)\n",
                "plt.xticks(fontsize=12)\n",
                "plt.yticks(fontsize=12)\n",
                "sns.boxplot(x=data['video_comment_count'])\n",
                "plt.show()"
            ],
            "metadata": {
                "colab": {
                    "base_uri": "https://localhost:8080/",
                    "height": 408
                },
                "executionInfo": {
                    "elapsed": 247,
                    "status": "ok",
                    "timestamp": 1671474898322,
                    "user": {
                        "displayName": "Lavanya Vijayan",
                        "userId": "09394087000910120547"
                    },
                    "user_tz": 480
                },
                "id": "-gE1fkGo0eG9",
                "outputId": "ac39b979-2647-4edc-e8d0-d8d9125ab01f",
                "azdata_cell_guid": "97d9ab39-99cd-4147-b9df-5f564a90cef0",
                "language": "python"
            },
            "outputs": [
                {
                    "data": {
                        "text/plain": "<Figure size 432x144 with 1 Axes>",
                        "image/png": "[encoded data removed]"
                    },
                    "metadata": {
                        "needs_background": "light"
                    },
                    "output_type": "display_data"
                }
            ],
            "execution_count": 72
        },
        {
            "cell_type": "code",
            "source": [
                "# Check for and handle outliers\n",
                "\n",
                "percentile25 = data[\"video_like_count\"].quantile(0.25)\n",
                "percentile75 = data[\"video_like_count\"].quantile(0.75)\n",
                "\n",
                "iqr = percentile75 - percentile25\n",
                "upper_limit = percentile75 + 1.5 * iqr\n",
                "\n",
                "data.loc[data[\"video_like_count\"] > upper_limit, \"video_like_count\"] = upper_limit"
            ],
            "metadata": {
                "id": "85JfQprd5Kn9",
                "azdata_cell_guid": "4eb58025-88a8-4f08-84bc-8561bf1ef57e",
                "language": "python"
            },
            "outputs": [],
            "execution_count": 73
        },
        {
            "cell_type": "code",
            "source": [
                "# Check for and handle outliers\n",
                "\n",
                "percentile25 = data[\"video_comment_count\"].quantile(0.25)\n",
                "percentile75 = data[\"video_comment_count\"].quantile(0.75)\n",
                "\n",
                "iqr = percentile75 - percentile25\n",
                "upper_limit = percentile75 + 1.5 * iqr\n",
                "\n",
                "data.loc[data[\"video_comment_count\"] > upper_limit, \"video_comment_count\"] = upper_limit"
            ],
            "metadata": {
                "id": "BnjSa8GA5oK8",
                "azdata_cell_guid": "501ded37-ea55-4089-a86e-7284c2123780",
                "language": "python"
            },
            "outputs": [],
            "execution_count": 74
        },
        {
            "cell_type": "markdown",
            "source": [
                "Check class balance."
            ],
            "metadata": {
                "id": "eDcY0ZaEJgDl",
                "azdata_cell_guid": "b731cfaf-573b-4e8e-be03-e0ddc752e018"
            }
        },
        {
            "cell_type": "code",
            "source": [
                "# Check class balance\n",
                "data[\"verified_status\"].value_counts(normalize=True)"
            ],
            "metadata": {
                "colab": {
                    "base_uri": "https://localhost:8080/"
                },
                "executionInfo": {
                    "elapsed": 6,
                    "status": "ok",
                    "timestamp": 1671474898449,
                    "user": {
                        "displayName": "Lavanya Vijayan",
                        "userId": "09394087000910120547"
                    },
                    "user_tz": 480
                },
                "id": "e3klRqlsJhtp",
                "outputId": "26c1f4c8-f12f-40c1-8260-bccf06a97023",
                "azdata_cell_guid": "ee10cbbe-18a6-4522-bef3-27c0f6601693",
                "language": "python"
            },
            "outputs": [
                {
                    "data": {
                        "text/plain": "verified_status\nnot verified    0.93712\nverified        0.06288\nName: proportion, dtype: float64"
                    },
                    "metadata": {},
                    "execution_count": 75,
                    "output_type": "execute_result"
                }
            ],
            "execution_count": 75
        },
        {
            "cell_type": "markdown",
            "source": [
                "Approximately 94.2% of the dataset represents videos posted by unverified accounts and 5.8% represents videos posted by verified accounts. Since the outcome variable is not very balanced, we u<span style=\"color: var(--vscode-foreground);\">se resampling to create class balance in the outcome variable, as needed.</span>"
            ],
            "metadata": {
                "id": "ePYWt2p5LqlW",
                "azdata_cell_guid": "31a639a9-9228-4018-8c2d-4c89ff171b63"
            },
            "attachments": {}
        },
        {
            "cell_type": "code",
            "source": [
                "# Use resampling to create class balance in the outcome variable, if needed\n",
                "\n",
                "# Identify data points from majority and minority classes\n",
                "data_majority = data[data[\"verified_status\"] == \"not verified\"]\n",
                "data_minority = data[data[\"verified_status\"] == \"verified\"]\n",
                "\n",
                "# Upsample the minority class (which is \"verified\")\n",
                "data_minority_upsampled = resample(data_minority,\n",
                "                                 replace=True,                 # to sample with replacement\n",
                "                                 n_samples=len(data_majority), # to match majority class\n",
                "                                 random_state=0)               # to create reproducible results\n",
                "\n",
                "# Combine majority class with upsampled minority class\n",
                "data_upsampled = pd.concat([data_majority, data_minority_upsampled]).reset_index(drop=True)\n",
                "\n",
                "# Display new class counts\n",
                "data_upsampled[\"verified_status\"].value_counts()"
            ],
            "metadata": {
                "colab": {
                    "base_uri": "https://localhost:8080/"
                },
                "executionInfo": {
                    "elapsed": 141,
                    "status": "ok",
                    "timestamp": 1671474898586,
                    "user": {
                        "displayName": "Lavanya Vijayan",
                        "userId": "09394087000910120547"
                    },
                    "user_tz": 480
                },
                "id": "AWhetFT3Ggyp",
                "outputId": "175a2a5d-0bd2-47ed-def0-9ffa33e6e4de",
                "azdata_cell_guid": "466af8e0-00fb-4ef4-aab0-53894008fe5e",
                "language": "python"
            },
            "outputs": [
                {
                    "data": {
                        "text/plain": "verified_status\nnot verified    17884\nverified        17884\nName: count, dtype: int64"
                    },
                    "metadata": {},
                    "execution_count": 76,
                    "output_type": "execute_result"
                }
            ],
            "execution_count": 76
        },
        {
            "cell_type": "markdown",
            "source": [
                "Get the average `video_transcription_text` length for videos posted by verified accounts and the average `video_transcription_text` length for videos posted by unverified accounts.\n",
                "\n"
            ],
            "metadata": {
                "id": "K2RHONw6D3R6",
                "azdata_cell_guid": "81972937-3664-499f-a35d-3471739adb5b"
            }
        },
        {
            "cell_type": "code",
            "source": [
                "# Get the average `video_transcription_text` length for claims and the average `video_transcription_text` length for opinions\n",
                "data_upsampled[[\"verified_status\", \"video_transcription_text\"]].groupby(by=\"verified_status\")[[\"video_transcription_text\"]].agg(func=lambda array: np.mean([len(text) for text in array]))"
            ],
            "metadata": {
                "colab": {
                    "base_uri": "https://localhost:8080/",
                    "height": 143
                },
                "executionInfo": {
                    "elapsed": 221,
                    "status": "ok",
                    "timestamp": 1671474898802,
                    "user": {
                        "displayName": "Lavanya Vijayan",
                        "userId": "09394087000910120547"
                    },
                    "user_tz": 480
                },
                "id": "w-aaFCPCD88e",
                "outputId": "a88b58cd-a6e6-43cf-a7ad-454202b202b9",
                "azdata_cell_guid": "e25a1089-5a60-47bd-8a8b-3f92c5b7001a",
                "language": "python"
            },
            "outputs": [
                {
                    "data": {
                        "text/plain": "                 video_transcription_text\nverified_status                          \nnot verified                    89.401141\nverified                        84.569559",
                        "text/html": "<div>\n<style scoped>\n    .dataframe tbody tr th:only-of-type {\n        vertical-align: middle;\n    }\n\n    .dataframe tbody tr th {\n        vertical-align: top;\n    }\n\n    .dataframe thead th {\n        text-align: right;\n    }\n</style>\n<table border=\"1\" class=\"dataframe\">\n  <thead>\n    <tr style=\"text-align: right;\">\n      <th></th>\n      <th>video_transcription_text</th>\n    </tr>\n    <tr>\n      <th>verified_status</th>\n      <th></th>\n    </tr>\n  </thead>\n  <tbody>\n    <tr>\n      <th>not verified</th>\n      <td>89.401141</td>\n    </tr>\n    <tr>\n      <th>verified</th>\n      <td>84.569559</td>\n    </tr>\n  </tbody>\n</table>\n</div>"
                    },
                    "metadata": {},
                    "execution_count": 77,
                    "output_type": "execute_result"
                }
            ],
            "execution_count": 77
        },
        {
            "cell_type": "markdown",
            "source": [
                "Extract the length of each `video_transcription_text` and add this as a column to the dataframe, so that it can be used as a potential feature in the model."
            ],
            "metadata": {
                "id": "hb_u1c6_T1i-",
                "azdata_cell_guid": "eeec09d8-3d33-4a73-af52-e93c264c566c"
            }
        },
        {
            "cell_type": "code",
            "source": [
                "# Extract the length of each `video_transcription_text` and add this as a column to the dataframe\n",
                "data_upsampled[\"text_length\"] = data_upsampled[\"video_transcription_text\"].apply(func=lambda text: len(text))"
            ],
            "metadata": {
                "id": "8Yr9hhhVHeYY",
                "azdata_cell_guid": "d89ec34d-0bc6-4b2e-a9f5-fc2d190a2fca",
                "language": "python"
            },
            "outputs": [],
            "execution_count": 78
        },
        {
            "cell_type": "code",
            "source": [
                "# Display first few rows of dataframe after adding new column\n",
                "data_upsampled.head()"
            ],
            "metadata": {
                "colab": {
                    "base_uri": "https://localhost:8080/",
                    "height": 357
                },
                "executionInfo": {
                    "elapsed": 5,
                    "status": "ok",
                    "timestamp": 1671474898989,
                    "user": {
                        "displayName": "Lavanya Vijayan",
                        "userId": "09394087000910120547"
                    },
                    "user_tz": 480
                },
                "id": "Vzg0J8UEJ1wx",
                "outputId": "f6d65425-4510-41aa-fc98-d2a5784f171f",
                "azdata_cell_guid": "9b295cf3-4b3c-4c28-a33e-84018e179b10",
                "language": "python"
            },
            "outputs": [
                {
                    "data": {
                        "text/plain": "   # claim_status    video_id  video_duration_sec   \n0  1        claim  7017666017                  59  \\\n1  2        claim  4014381136                  32   \n2  3        claim  9859838091                  31   \n3  4        claim  1866847991                  25   \n4  5        claim  7105231098                  19   \n\n                            video_transcription_text verified_status   \n0  someone shared with me that drone deliveries a...    not verified  \\\n1  someone shared with me that there are more mic...    not verified   \n2  someone shared with me that american industria...    not verified   \n3  someone shared with me that the metro of st. p...    not verified   \n4  someone shared with me that the number of busi...    not verified   \n\n  author_ban_status  video_view_count  video_like_count  video_share_count   \n0      under review          343296.0           19425.0              241.0  \\\n1            active          140877.0           77355.0            19034.0   \n2            active          902185.0           97690.0             2858.0   \n3            active          437506.0          239954.0            34812.0   \n4            active           56167.0           34987.0             4110.0   \n\n   video_download_count  video_comment_count  text_length  \n0                   1.0                  0.0           97  \n1                1161.0                684.0          107  \n2                 833.0                329.0          137  \n3                1234.0                584.0          131  \n4                 547.0                152.0          128  ",
                        "text/html": "<div>\n<style scoped>\n    .dataframe tbody tr th:only-of-type {\n        vertical-align: middle;\n    }\n\n    .dataframe tbody tr th {\n        vertical-align: top;\n    }\n\n    .dataframe thead th {\n        text-align: right;\n    }\n</style>\n<table border=\"1\" class=\"dataframe\">\n  <thead>\n    <tr style=\"text-align: right;\">\n      <th></th>\n      <th>#</th>\n      <th>claim_status</th>\n      <th>video_id</th>\n      <th>video_duration_sec</th>\n      <th>video_transcription_text</th>\n      <th>verified_status</th>\n      <th>author_ban_status</th>\n      <th>video_view_count</th>\n      <th>video_like_count</th>\n      <th>video_share_count</th>\n      <th>video_download_count</th>\n      <th>video_comment_count</th>\n      <th>text_length</th>\n    </tr>\n  </thead>\n  <tbody>\n    <tr>\n      <th>0</th>\n      <td>1</td>\n      <td>claim</td>\n      <td>7017666017</td>\n      <td>59</td>\n      <td>someone shared with me that drone deliveries a...</td>\n      <td>not verified</td>\n      <td>under review</td>\n      <td>343296.0</td>\n      <td>19425.0</td>\n      <td>241.0</td>\n      <td>1.0</td>\n      <td>0.0</td>\n      <td>97</td>\n    </tr>\n    <tr>\n      <th>1</th>\n      <td>2</td>\n      <td>claim</td>\n      <td>4014381136</td>\n      <td>32</td>\n      <td>someone shared with me that there are more mic...</td>\n      <td>not verified</td>\n      <td>active</td>\n      <td>140877.0</td>\n      <td>77355.0</td>\n      <td>19034.0</td>\n      <td>1161.0</td>\n      <td>684.0</td>\n      <td>107</td>\n    </tr>\n    <tr>\n      <th>2</th>\n      <td>3</td>\n      <td>claim</td>\n      <td>9859838091</td>\n      <td>31</td>\n      <td>someone shared with me that american industria...</td>\n      <td>not verified</td>\n      <td>active</td>\n      <td>902185.0</td>\n      <td>97690.0</td>\n      <td>2858.0</td>\n      <td>833.0</td>\n      <td>329.0</td>\n      <td>137</td>\n    </tr>\n    <tr>\n      <th>3</th>\n      <td>4</td>\n      <td>claim</td>\n      <td>1866847991</td>\n      <td>25</td>\n      <td>someone shared with me that the metro of st. p...</td>\n      <td>not verified</td>\n      <td>active</td>\n      <td>437506.0</td>\n      <td>239954.0</td>\n      <td>34812.0</td>\n      <td>1234.0</td>\n      <td>584.0</td>\n      <td>131</td>\n    </tr>\n    <tr>\n      <th>4</th>\n      <td>5</td>\n      <td>claim</td>\n      <td>7105231098</td>\n      <td>19</td>\n      <td>someone shared with me that the number of busi...</td>\n      <td>not verified</td>\n      <td>active</td>\n      <td>56167.0</td>\n      <td>34987.0</td>\n      <td>4110.0</td>\n      <td>547.0</td>\n      <td>152.0</td>\n      <td>128</td>\n    </tr>\n  </tbody>\n</table>\n</div>"
                    },
                    "metadata": {},
                    "execution_count": 79,
                    "output_type": "execute_result"
                }
            ],
            "execution_count": 79
        },
        {
            "cell_type": "markdown",
            "source": [
                "Visualize the distribution of `video_transcription_text` length for videos posted by verified accounts and videos posted by unverified accounts."
            ],
            "metadata": {
                "id": "LGu7ipi4AJmP",
                "azdata_cell_guid": "c8b2cf49-a289-498a-8293-cf0e64dea8d9"
            }
        },
        {
            "cell_type": "code",
            "source": [
                "# Visualize the distribution of `video_transcription_text` length for videos posted by verified accounts and videos posted by unverified accounts\n",
                "# Create two histograms in one plot\n",
                "sns.histplot(data=data_upsampled, stat=\"count\", multiple=\"stack\", x=\"text_length\", kde=False, palette=\"pastel\", \n",
                "             hue=\"verified_status\", element=\"bars\", legend=True)\n",
                "plt.title(\"Seaborn Stacked Histogram\")\n",
                "plt.xlabel(\"video_transcription_text length (number of characters)\")\n",
                "plt.ylabel(\"Count\")\n",
                "plt.title(\"Distribution of video_transcription_text length for videos posted by verified accounts and videos posted by unverified accounts\")\n",
                "plt.show()"
            ],
            "metadata": {
                "colab": {
                    "base_uri": "https://localhost:8080/",
                    "height": 296
                },
                "executionInfo": {
                    "elapsed": 1967,
                    "status": "ok",
                    "timestamp": 1671474900952,
                    "user": {
                        "displayName": "Lavanya Vijayan",
                        "userId": "09394087000910120547"
                    },
                    "user_tz": 480
                },
                "id": "MSq136S3TIYe",
                "outputId": "9ad9ea7c-84e7-4b9c-b0fe-a791ca2c5fc7",
                "azdata_cell_guid": "f56e01ef-ed91-47fe-8bf5-c37cfba3b53d",
                "language": "python"
            },
            "outputs": [
                {
                    "data": {
                        "text/plain": "<Figure size 432x288 with 1 Axes>",
                        "image/png": "[encoded data removed]"
                    },
                    "metadata": {
                        "needs_background": "light"
                    },
                    "output_type": "display_data"
                }
            ],
            "execution_count": 80
        },
        {
            "cell_type": "markdown",
            "source": [
                "## **2b. Examine correlations**\n",
                "\n",
                "Next, code a correlation matrix to help determine most correlated variables."
            ],
            "metadata": {
                "id": "KlF7ZNSyW0yV",
                "azdata_cell_guid": "a057f321-6042-4cc6-9d0b-9ac9117b8086"
            },
            "attachments": {}
        },
        {
            "cell_type": "code",
            "source": [
                "# Code a correlation matrix to help determine most correlated variables\n",
                "data_upsampled.corr(numeric_only=True)"
            ],
            "metadata": {
                "colab": {
                    "base_uri": "https://localhost:8080/",
                    "height": 396
                },
                "executionInfo": {
                    "elapsed": 7,
                    "status": "ok",
                    "timestamp": 1671474900952,
                    "user": {
                        "displayName": "Lavanya Vijayan",
                        "userId": "09394087000910120547"
                    },
                    "user_tz": 480
                },
                "id": "KCEzE-gwL5gq",
                "outputId": "0867ffef-1e8d-447b-cbef-69b842df1510",
                "azdata_cell_guid": "42964e16-1588-466e-bba3-c9db6e402846",
                "language": "python"
            },
            "outputs": [
                {
                    "data": {
                        "text/plain": "                             #  video_id  video_duration_sec   \n#                     1.000000 -0.000853           -0.011729  \\\nvideo_id             -0.000853  1.000000            0.011859   \nvideo_duration_sec   -0.011729  0.011859            1.000000   \nvideo_view_count     -0.697007  0.002554            0.013589   \nvideo_like_count     -0.626385  0.005993            0.004494   \nvideo_share_count    -0.504015  0.010515            0.002206   \nvideo_download_count -0.487096  0.008753            0.003989   \nvideo_comment_count  -0.608773  0.012674           -0.001086   \ntext_length          -0.193677 -0.007083           -0.002981   \n\n                      video_view_count  video_like_count  video_share_count   \n#                            -0.697007         -0.626385          -0.504015  \\\nvideo_id                      0.002554          0.005993           0.010515   \nvideo_duration_sec            0.013589          0.004494           0.002206   \nvideo_view_count              1.000000          0.856937           0.711313   \nvideo_like_count              0.856937          1.000000           0.832146   \nvideo_share_count             0.711313          0.832146           1.000000   \nvideo_download_count          0.690048          0.805543           0.710117   \nvideo_comment_count           0.748361          0.818032           0.671335   \ntext_length                   0.244693          0.216693           0.171651   \n\n                      video_download_count  video_comment_count  text_length  \n#                                -0.487096            -0.608773    -0.193677  \nvideo_id                          0.008753             0.012674    -0.007083  \nvideo_duration_sec                0.003989            -0.001086    -0.002981  \nvideo_view_count                  0.690048             0.748361     0.244693  \nvideo_like_count                  0.805543             0.818032     0.216693  \nvideo_share_count                 0.710117             0.671335     0.171651  \nvideo_download_count              1.000000             0.793668     0.173396  \nvideo_comment_count               0.793668             1.000000     0.217661  \ntext_length                       0.173396             0.217661     1.000000  ",
                        "text/html": "<div>\n<style scoped>\n    .dataframe tbody tr th:only-of-type {\n        vertical-align: middle;\n    }\n\n    .dataframe tbody tr th {\n        vertical-align: top;\n    }\n\n    .dataframe thead th {\n        text-align: right;\n    }\n</style>\n<table border=\"1\" class=\"dataframe\">\n  <thead>\n    <tr style=\"text-align: right;\">\n      <th></th>\n      <th>#</th>\n      <th>video_id</th>\n      <th>video_duration_sec</th>\n      <th>video_view_count</th>\n      <th>video_like_count</th>\n      <th>video_share_count</th>\n      <th>video_download_count</th>\n      <th>video_comment_count</th>\n      <th>text_length</th>\n    </tr>\n  </thead>\n  <tbody>\n    <tr>\n      <th>#</th>\n      <td>1.000000</td>\n      <td>-0.000853</td>\n      <td>-0.011729</td>\n      <td>-0.697007</td>\n      <td>-0.626385</td>\n      <td>-0.504015</td>\n      <td>-0.487096</td>\n      <td>-0.608773</td>\n      <td>-0.193677</td>\n    </tr>\n    <tr>\n      <th>video_id</th>\n      <td>-0.000853</td>\n      <td>1.000000</td>\n      <td>0.011859</td>\n      <td>0.002554</td>\n      <td>0.005993</td>\n      <td>0.010515</td>\n      <td>0.008753</td>\n      <td>0.012674</td>\n      <td>-0.007083</td>\n    </tr>\n    <tr>\n      <th>video_duration_sec</th>\n      <td>-0.011729</td>\n      <td>0.011859</td>\n      <td>1.000000</td>\n      <td>0.013589</td>\n      <td>0.004494</td>\n      <td>0.002206</td>\n      <td>0.003989</td>\n      <td>-0.001086</td>\n      <td>-0.002981</td>\n    </tr>\n    <tr>\n      <th>video_view_count</th>\n      <td>-0.697007</td>\n      <td>0.002554</td>\n      <td>0.013589</td>\n      <td>1.000000</td>\n      <td>0.856937</td>\n      <td>0.711313</td>\n      <td>0.690048</td>\n      <td>0.748361</td>\n      <td>0.244693</td>\n    </tr>\n    <tr>\n      <th>video_like_count</th>\n      <td>-0.626385</td>\n      <td>0.005993</td>\n      <td>0.004494</td>\n      <td>0.856937</td>\n      <td>1.000000</td>\n      <td>0.832146</td>\n      <td>0.805543</td>\n      <td>0.818032</td>\n      <td>0.216693</td>\n    </tr>\n    <tr>\n      <th>video_share_count</th>\n      <td>-0.504015</td>\n      <td>0.010515</td>\n      <td>0.002206</td>\n      <td>0.711313</td>\n      <td>0.832146</td>\n      <td>1.000000</td>\n      <td>0.710117</td>\n      <td>0.671335</td>\n      <td>0.171651</td>\n    </tr>\n    <tr>\n      <th>video_download_count</th>\n      <td>-0.487096</td>\n      <td>0.008753</td>\n      <td>0.003989</td>\n      <td>0.690048</td>\n      <td>0.805543</td>\n      <td>0.710117</td>\n      <td>1.000000</td>\n      <td>0.793668</td>\n      <td>0.173396</td>\n    </tr>\n    <tr>\n      <th>video_comment_count</th>\n      <td>-0.608773</td>\n      <td>0.012674</td>\n      <td>-0.001086</td>\n      <td>0.748361</td>\n      <td>0.818032</td>\n      <td>0.671335</td>\n      <td>0.793668</td>\n      <td>1.000000</td>\n      <td>0.217661</td>\n    </tr>\n    <tr>\n      <th>text_length</th>\n      <td>-0.193677</td>\n      <td>-0.007083</td>\n      <td>-0.002981</td>\n      <td>0.244693</td>\n      <td>0.216693</td>\n      <td>0.171651</td>\n      <td>0.173396</td>\n      <td>0.217661</td>\n      <td>1.000000</td>\n    </tr>\n  </tbody>\n</table>\n</div>"
                    },
                    "metadata": {},
                    "execution_count": 81,
                    "output_type": "execute_result"
                }
            ],
            "execution_count": 81
        },
        {
            "cell_type": "markdown",
            "source": [
                "Visualize a correlation heatmap of the data."
            ],
            "metadata": {
                "id": "6Ldmks6g4ZzE",
                "azdata_cell_guid": "526b11de-0c2f-4ab0-8e64-9251aa411aa5"
            }
        },
        {
            "cell_type": "code",
            "source": [
                "# Create a heatmap to visualize how correlated variables are\n",
                "plt.figure(figsize=(8, 6))\n",
                "sns.heatmap(\n",
                "    data_upsampled[[\"video_duration_sec\", \"claim_status\", \"author_ban_status\", \"video_view_count\", \n",
                "                    \"video_like_count\", \"video_share_count\", \"video_download_count\", \"video_comment_count\", \"text_length\"]]\n",
                "    .corr(numeric_only=True), \n",
                "    annot=True, \n",
                "    cmap=\"crest\")\n",
                "plt.title(\"Heatmap of the dataset\")\n",
                "\n",
                "# save the plot as JPG file\n",
                "plt.savefig(\"figs/heatmap.jpg\", bbox_inches='tight')"
            ],
            "metadata": {
                "colab": {
                    "base_uri": "https://localhost:8080/",
                    "height": 494
                },
                "executionInfo": {
                    "elapsed": 1320,
                    "status": "ok",
                    "timestamp": 1671474902267,
                    "user": {
                        "displayName": "Lavanya Vijayan",
                        "userId": "09394087000910120547"
                    },
                    "user_tz": 480
                },
                "id": "8Ti_MFF7tekR",
                "outputId": "755a24fa-e193-43ed-a39b-6e54aec3d624",
                "azdata_cell_guid": "dfa17489-86c9-43a7-a3b4-05a195568617",
                "language": "python"
            },
            "outputs": [
                {
                    "data": {
                        "text/plain": "<Figure size 576x432 with 2 Axes>",
                        "image/png": "[encoded data removed]"
                    },
                    "metadata": {
                        "needs_background": "light"
                    },
                    "output_type": "display_data"
                }
            ],
            "execution_count": 120
        },
        {
            "cell_type": "markdown",
            "source": [
                "**Observations****:** The above heatmap shows that the following pair of variables are strongly correlated: `video_view_count` and `video_like_count` (0.86 correlation coefficient).\n",
                "\n",
                "One of the model assumptions for logistic regression is no severe multicollinearity among the features. To build a logistic regression model that meets this assumption, we should exclude `video_like_count`. Among the variables that quantify video metrics, we could keep `video_view_count`, `video_share_count`, `video_download_count`, and `video_comment_count` as features."
            ],
            "metadata": {
                "id": "UVq4r0Z9FDjD",
                "azdata_cell_guid": "a7769f6c-df96-4d3f-af91-fec732723dc1"
            },
            "attachments": {}
        },
        {
            "cell_type": "markdown",
            "source": [
                "## **3a. Select variables**"
            ],
            "metadata": {
                "id": "07UJJm41ajgf",
                "azdata_cell_guid": "7cafcc2c-f3a2-4143-bca9-a416d23d35e6"
            },
            "attachments": {}
        },
        {
            "cell_type": "markdown",
            "source": [
                "Select the outcome variable."
            ],
            "metadata": {
                "id": "WhocrccZBcwx",
                "azdata_cell_guid": "8dfa16c8-3c5f-4ade-898f-e7a981143295"
            }
        },
        {
            "cell_type": "code",
            "source": [
                "# Select outcome variable\n",
                "y = data_upsampled[\"verified_status\"]"
            ],
            "metadata": {
                "id": "uH6jiQECBgFn",
                "azdata_cell_guid": "e1bf5191-9f5e-4ebf-b8ae-2cc67c2fe27c",
                "language": "python"
            },
            "outputs": [],
            "execution_count": 83
        },
        {
            "cell_type": "markdown",
            "source": [
                "Select the features."
            ],
            "metadata": {
                "id": "WPxEovpUBZfk",
                "azdata_cell_guid": "3d2bed9a-9d2e-4d79-89cc-675a621800be"
            }
        },
        {
            "cell_type": "code",
            "source": [
                "# Select features\n",
                "X = data_upsampled[[\"video_duration_sec\", \"claim_status\", \"author_ban_status\", \"video_view_count\", \"video_share_count\", \"video_download_count\", \"video_comment_count\"]]\n",
                "\n",
                "# Display first few rows of features dataframe\n",
                "X.head()"
            ],
            "metadata": {
                "colab": {
                    "base_uri": "https://localhost:8080/",
                    "height": 206
                },
                "executionInfo": {
                    "elapsed": 12,
                    "status": "ok",
                    "timestamp": 1671474902269,
                    "user": {
                        "displayName": "Lavanya Vijayan",
                        "userId": "09394087000910120547"
                    },
                    "user_tz": 480
                },
                "id": "iJ5C6M5zCP3k",
                "outputId": "eaa381bd-0def-44b3-df5f-3e9876d91f29",
                "azdata_cell_guid": "7d8675a8-90cb-4cb6-8a4c-af5c49af51a4",
                "language": "python"
            },
            "outputs": [
                {
                    "data": {
                        "text/plain": "   video_duration_sec claim_status author_ban_status  video_view_count   \n0                  59        claim      under review          343296.0  \\\n1                  32        claim            active          140877.0   \n2                  31        claim            active          902185.0   \n3                  25        claim            active          437506.0   \n4                  19        claim            active           56167.0   \n\n   video_share_count  video_download_count  video_comment_count  \n0              241.0                   1.0                  0.0  \n1            19034.0                1161.0                684.0  \n2             2858.0                 833.0                329.0  \n3            34812.0                1234.0                584.0  \n4             4110.0                 547.0                152.0  ",
                        "text/html": "<div>\n<style scoped>\n    .dataframe tbody tr th:only-of-type {\n        vertical-align: middle;\n    }\n\n    .dataframe tbody tr th {\n        vertical-align: top;\n    }\n\n    .dataframe thead th {\n        text-align: right;\n    }\n</style>\n<table border=\"1\" class=\"dataframe\">\n  <thead>\n    <tr style=\"text-align: right;\">\n      <th></th>\n      <th>video_duration_sec</th>\n      <th>claim_status</th>\n      <th>author_ban_status</th>\n      <th>video_view_count</th>\n      <th>video_share_count</th>\n      <th>video_download_count</th>\n      <th>video_comment_count</th>\n    </tr>\n  </thead>\n  <tbody>\n    <tr>\n      <th>0</th>\n      <td>59</td>\n      <td>claim</td>\n      <td>under review</td>\n      <td>343296.0</td>\n      <td>241.0</td>\n      <td>1.0</td>\n      <td>0.0</td>\n    </tr>\n    <tr>\n      <th>1</th>\n      <td>32</td>\n      <td>claim</td>\n      <td>active</td>\n      <td>140877.0</td>\n      <td>19034.0</td>\n      <td>1161.0</td>\n      <td>684.0</td>\n    </tr>\n    <tr>\n      <th>2</th>\n      <td>31</td>\n      <td>claim</td>\n      <td>active</td>\n      <td>902185.0</td>\n      <td>2858.0</td>\n      <td>833.0</td>\n      <td>329.0</td>\n    </tr>\n    <tr>\n      <th>3</th>\n      <td>25</td>\n      <td>claim</td>\n      <td>active</td>\n      <td>437506.0</td>\n      <td>34812.0</td>\n      <td>1234.0</td>\n      <td>584.0</td>\n    </tr>\n    <tr>\n      <th>4</th>\n      <td>19</td>\n      <td>claim</td>\n      <td>active</td>\n      <td>56167.0</td>\n      <td>4110.0</td>\n      <td>547.0</td>\n      <td>152.0</td>\n    </tr>\n  </tbody>\n</table>\n</div>"
                    },
                    "metadata": {},
                    "execution_count": 84,
                    "output_type": "execute_result"
                }
            ],
            "execution_count": 84
        },
        {
            "cell_type": "markdown",
            "source": [
                "**Observations****:** The `#` and `video_id` columns are not selected as features here, because they do not seem to be helpful for predicting whether a video presents a claim or an opinion. Also, `video_like_count` is not selected as a feature here, because it is strongly correlated with other features, as discussed earlier. And logistic regression has a no multicollinearity model assumption that needs to be met."
            ],
            "metadata": {
                "id": "8R4Gd7OoZdAu",
                "azdata_cell_guid": "1059a3d1-90b3-4b49-9708-927bd04b0b79"
            },
            "attachments": {}
        },
        {
            "cell_type": "markdown",
            "source": [
                "## **3b. Train-test split**"
            ],
            "metadata": {
                "id": "gPIBz0-HDEqd",
                "azdata_cell_guid": "a7712eb3-5513-4ed9-abad-7568f32ea59f"
            },
            "attachments": {}
        },
        {
            "cell_type": "markdown",
            "source": [
                "Split the data into training and testing sets."
            ],
            "metadata": {
                "id": "5tNw9_y9jmY1",
                "azdata_cell_guid": "2da35535-02c9-4771-925f-557514cb20ca"
            }
        },
        {
            "cell_type": "code",
            "source": [
                "# Split the data into training and testing sets\n",
                "X_train, X_test, y_train, y_test = train_test_split(X, y, test_size=0.25, random_state=0)"
            ],
            "metadata": {
                "id": "jKgrew0V6o_3",
                "azdata_cell_guid": "1e80ba98-3a5e-4f87-83a9-39493b6d115c",
                "language": "python"
            },
            "outputs": [],
            "execution_count": 85
        },
        {
            "cell_type": "markdown",
            "source": [
                "Confirm that the dimensions of the training and testing sets are in alignment."
            ],
            "metadata": {
                "id": "5VlklzoujrAR",
                "azdata_cell_guid": "761a7585-0b77-4ef0-8556-22c3c813b4ec"
            }
        },
        {
            "cell_type": "code",
            "source": [
                "# Get shape of each training and testing set\n",
                "X_train.shape, X_test.shape, y_train.shape, y_test.shape"
            ],
            "metadata": {
                "colab": {
                    "base_uri": "https://localhost:8080/"
                },
                "executionInfo": {
                    "elapsed": 11,
                    "status": "ok",
                    "timestamp": 1671474902269,
                    "user": {
                        "displayName": "Lavanya Vijayan",
                        "userId": "09394087000910120547"
                    },
                    "user_tz": 480
                },
                "id": "xgbB1NCtfxcc",
                "outputId": "463ad5e1-165b-440a-f592-e73c4813a612",
                "azdata_cell_guid": "3b35a271-0831-458f-8d59-50ba0374e2b7",
                "language": "python"
            },
            "outputs": [
                {
                    "data": {
                        "text/plain": "((26826, 7), (8942, 7), (26826,), (8942,))"
                    },
                    "metadata": {},
                    "execution_count": 86,
                    "output_type": "execute_result"
                }
            ],
            "execution_count": 86
        },
        {
            "cell_type": "markdown",
            "source": [
                "**Observations****:**\n",
                "\n",
                "- The number of features (`7`) aligns between the training and testing sets.\n",
                "- The number of rows aligns between the features and the outcome variable for training (`26826`) and testing (`8942`)."
            ],
            "metadata": {
                "id": "wrPfLLbCj6WP",
                "azdata_cell_guid": "a30efb3d-6fa9-42be-b9bd-480a6959c1c3"
            },
            "attachments": {}
        },
        {
            "cell_type": "markdown",
            "source": [
                "## **3c. Encode variables**"
            ],
            "metadata": {
                "id": "V7PjlXFuDRp_",
                "azdata_cell_guid": "d0381c90-a00f-4638-8856-576b29adf651"
            },
            "attachments": {}
        },
        {
            "cell_type": "markdown",
            "source": [
                "Check the data types of the features."
            ],
            "metadata": {
                "id": "rbpnEjop82zL",
                "azdata_cell_guid": "a0da2071-c474-40c9-bdbf-8fbef6b2ddd4"
            }
        },
        {
            "cell_type": "code",
            "source": [
                "# Check data types\n",
                "X_train.dtypes"
            ],
            "metadata": {
                "colab": {
                    "base_uri": "https://localhost:8080/"
                },
                "executionInfo": {
                    "elapsed": 13,
                    "status": "ok",
                    "timestamp": 1671474902435,
                    "user": {
                        "displayName": "Lavanya Vijayan",
                        "userId": "09394087000910120547"
                    },
                    "user_tz": 480
                },
                "id": "TefBRXUu8zWR",
                "outputId": "0e10061b-46de-41de-b84e-c4a1ed995107",
                "azdata_cell_guid": "8f58ba07-e89f-411c-a294-cf8ac53e6c76",
                "language": "python"
            },
            "outputs": [
                {
                    "data": {
                        "text/plain": "video_duration_sec        int64\nclaim_status             object\nauthor_ban_status        object\nvideo_view_count        float64\nvideo_share_count       float64\nvideo_download_count    float64\nvideo_comment_count     float64\ndtype: object"
                    },
                    "metadata": {},
                    "execution_count": 87,
                    "output_type": "execute_result"
                }
            ],
            "execution_count": 87
        },
        {
            "cell_type": "code",
            "source": [
                "# Get unique values in `claim_status`\n",
                "X_train[\"claim_status\"].unique()"
            ],
            "metadata": {
                "colab": {
                    "base_uri": "https://localhost:8080/"
                },
                "executionInfo": {
                    "elapsed": 11,
                    "status": "ok",
                    "timestamp": 1671474902436,
                    "user": {
                        "displayName": "Lavanya Vijayan",
                        "userId": "09394087000910120547"
                    },
                    "user_tz": 480
                },
                "id": "gT1YqFZc-uBF",
                "outputId": "0f9b8aed-e9a3-4803-a511-59a4a851a159",
                "azdata_cell_guid": "4a5c12a3-0f74-424d-8ea4-2e9fb7ebe6ef",
                "language": "python"
            },
            "outputs": [
                {
                    "data": {
                        "text/plain": "array(['opinion', 'claim'], dtype=object)"
                    },
                    "metadata": {},
                    "execution_count": 88,
                    "output_type": "execute_result"
                }
            ],
            "execution_count": 88
        },
        {
            "cell_type": "code",
            "source": [
                "# Get unique values in `author_ban_status`\n",
                "X_train[\"author_ban_status\"].unique()"
            ],
            "metadata": {
                "colab": {
                    "base_uri": "https://localhost:8080/"
                },
                "executionInfo": {
                    "elapsed": 8,
                    "status": "ok",
                    "timestamp": 1671474902436,
                    "user": {
                        "displayName": "Lavanya Vijayan",
                        "userId": "09394087000910120547"
                    },
                    "user_tz": 480
                },
                "id": "uSnObsvy-wpz",
                "outputId": "c8256ceb-d3ed-4bc3-df80-b95083a08105",
                "azdata_cell_guid": "92859fe5-6995-4006-a06c-a2a2bda876d0",
                "language": "python"
            },
            "outputs": [
                {
                    "data": {
                        "text/plain": "array(['active', 'under review', 'banned'], dtype=object)"
                    },
                    "metadata": {},
                    "execution_count": 89,
                    "output_type": "execute_result"
                }
            ],
            "execution_count": 89
        },
        {
            "cell_type": "markdown",
            "source": [
                "As shown above, the `claim_status` and `author_ban_status` features are each of data type `object` currently. In order to work with the implementations of models through `sklearn`, we must make these categorical features numeric."
            ],
            "metadata": {
                "id": "EAq0NU4I89-X",
                "azdata_cell_guid": "0d452297-43ff-409e-91e7-827911b35c30"
            },
            "attachments": {}
        },
        {
            "cell_type": "code",
            "source": [
                "# Select the training features that needs to be encoded\n",
                "X_train_to_encode = X_train[[\"claim_status\", \"author_ban_status\"]]\n",
                "\n",
                "# Display first few rows\n",
                "X_train_to_encode.head()"
            ],
            "metadata": {
                "colab": {
                    "base_uri": "https://localhost:8080/",
                    "height": 206
                },
                "executionInfo": {
                    "elapsed": 6,
                    "status": "ok",
                    "timestamp": 1671474902436,
                    "user": {
                        "displayName": "Lavanya Vijayan",
                        "userId": "09394087000910120547"
                    },
                    "user_tz": 480
                },
                "id": "mlMTSyaTcBct",
                "outputId": "de052db9-eb0d-40d8-ac06-1aa14afc27ab",
                "azdata_cell_guid": "5452b560-a816-494d-b656-4707d6c546c4",
                "language": "python"
            },
            "outputs": [
                {
                    "data": {
                        "text/plain": "      claim_status author_ban_status\n33058      opinion            active\n20491      opinion            active\n25583      opinion            active\n18474      opinion            active\n27312      opinion            active",
                        "text/html": "<div>\n<style scoped>\n    .dataframe tbody tr th:only-of-type {\n        vertical-align: middle;\n    }\n\n    .dataframe tbody tr th {\n        vertical-align: top;\n    }\n\n    .dataframe thead th {\n        text-align: right;\n    }\n</style>\n<table border=\"1\" class=\"dataframe\">\n  <thead>\n    <tr style=\"text-align: right;\">\n      <th></th>\n      <th>claim_status</th>\n      <th>author_ban_status</th>\n    </tr>\n  </thead>\n  <tbody>\n    <tr>\n      <th>33058</th>\n      <td>opinion</td>\n      <td>active</td>\n    </tr>\n    <tr>\n      <th>20491</th>\n      <td>opinion</td>\n      <td>active</td>\n    </tr>\n    <tr>\n      <th>25583</th>\n      <td>opinion</td>\n      <td>active</td>\n    </tr>\n    <tr>\n      <th>18474</th>\n      <td>opinion</td>\n      <td>active</td>\n    </tr>\n    <tr>\n      <th>27312</th>\n      <td>opinion</td>\n      <td>active</td>\n    </tr>\n  </tbody>\n</table>\n</div>"
                    },
                    "metadata": {},
                    "execution_count": 90,
                    "output_type": "execute_result"
                }
            ],
            "execution_count": 90
        },
        {
            "cell_type": "code",
            "source": [
                "# Set up an encoder for one-hot encoding the categorical features\n",
                "X_encoder = OneHotEncoder(drop='first', sparse_output=False)"
            ],
            "metadata": {
                "id": "lSM5lQioAjex",
                "azdata_cell_guid": "5fb3f08e-09cb-464e-b987-95e4c0432ce6",
                "language": "python"
            },
            "outputs": [],
            "execution_count": 91
        },
        {
            "cell_type": "code",
            "source": [
                "# Fit and transform the training features using the encoder\n",
                "X_train_encoded = X_encoder.fit_transform(X_train_to_encode)"
            ],
            "metadata": {
                "id": "PH_KGRJApBM_",
                "azdata_cell_guid": "206a3e75-593c-48ef-a261-a1875926c98d",
                "language": "python"
            },
            "outputs": [],
            "execution_count": 92
        },
        {
            "cell_type": "code",
            "source": [
                "# Get feature names from encoder\n",
                "X_encoder.get_feature_names_out()"
            ],
            "metadata": {
                "colab": {
                    "base_uri": "https://localhost:8080/"
                },
                "executionInfo": {
                    "elapsed": 9,
                    "status": "ok",
                    "timestamp": 1671474902570,
                    "user": {
                        "displayName": "Lavanya Vijayan",
                        "userId": "09394087000910120547"
                    },
                    "user_tz": 480
                },
                "id": "j57gJjIFpyO_",
                "outputId": "de27ccfe-57cf-4dec-812f-d526974fc740",
                "azdata_cell_guid": "61428cfe-bd6d-42d0-8802-3a76fb4a49e0",
                "language": "python"
            },
            "outputs": [
                {
                    "data": {
                        "text/plain": "array(['claim_status_opinion', 'author_ban_status_banned',\n       'author_ban_status_under review'], dtype=object)"
                    },
                    "metadata": {},
                    "execution_count": 93,
                    "output_type": "execute_result"
                }
            ],
            "execution_count": 93
        },
        {
            "cell_type": "code",
            "source": [
                "# Display first few rows of encoded training features\n",
                "X_train_encoded"
            ],
            "metadata": {
                "colab": {
                    "base_uri": "https://localhost:8080/"
                },
                "executionInfo": {
                    "elapsed": 193,
                    "status": "ok",
                    "timestamp": 1671474902755,
                    "user": {
                        "displayName": "Lavanya Vijayan",
                        "userId": "09394087000910120547"
                    },
                    "user_tz": 480
                },
                "id": "2vSYk7n7phDI",
                "outputId": "dd6a6964-2737-4ebc-bc8b-f5bd88fef609",
                "azdata_cell_guid": "c7a6beb6-2012-4c67-92bb-bfd57e415f0a",
                "language": "python"
            },
            "outputs": [
                {
                    "data": {
                        "text/plain": "array([[1., 0., 0.],\n       [1., 0., 0.],\n       [1., 0., 0.],\n       ...,\n       [1., 0., 0.],\n       [1., 0., 0.],\n       [0., 1., 0.]])"
                    },
                    "metadata": {},
                    "execution_count": 94,
                    "output_type": "execute_result"
                }
            ],
            "execution_count": 94
        },
        {
            "cell_type": "code",
            "source": [
                "# Place encoded training features (which is currently an array) into a dataframe\n",
                "X_train_encoded_df = pd.DataFrame(data=X_train_encoded, columns=X_encoder.get_feature_names_out())\n",
                "\n",
                "# Display first few rows\n",
                "X_train_encoded_df.head()"
            ],
            "metadata": {
                "colab": {
                    "base_uri": "https://localhost:8080/",
                    "height": 206
                },
                "executionInfo": {
                    "elapsed": 6,
                    "status": "ok",
                    "timestamp": 1671474902755,
                    "user": {
                        "displayName": "Lavanya Vijayan",
                        "userId": "09394087000910120547"
                    },
                    "user_tz": 480
                },
                "id": "jAn10kA9qcUa",
                "outputId": "ca1255ea-cd18-4b68-9797-6f0b6ae1935f",
                "azdata_cell_guid": "b8adbe00-d390-4241-9697-68ff99afe393",
                "language": "python"
            },
            "outputs": [
                {
                    "data": {
                        "text/plain": "   claim_status_opinion  author_ban_status_banned   \n0                   1.0                       0.0  \\\n1                   1.0                       0.0   \n2                   1.0                       0.0   \n3                   1.0                       0.0   \n4                   1.0                       0.0   \n\n   author_ban_status_under review  \n0                             0.0  \n1                             0.0  \n2                             0.0  \n3                             0.0  \n4                             0.0  ",
                        "text/html": "<div>\n<style scoped>\n    .dataframe tbody tr th:only-of-type {\n        vertical-align: middle;\n    }\n\n    .dataframe tbody tr th {\n        vertical-align: top;\n    }\n\n    .dataframe thead th {\n        text-align: right;\n    }\n</style>\n<table border=\"1\" class=\"dataframe\">\n  <thead>\n    <tr style=\"text-align: right;\">\n      <th></th>\n      <th>claim_status_opinion</th>\n      <th>author_ban_status_banned</th>\n      <th>author_ban_status_under review</th>\n    </tr>\n  </thead>\n  <tbody>\n    <tr>\n      <th>0</th>\n      <td>1.0</td>\n      <td>0.0</td>\n      <td>0.0</td>\n    </tr>\n    <tr>\n      <th>1</th>\n      <td>1.0</td>\n      <td>0.0</td>\n      <td>0.0</td>\n    </tr>\n    <tr>\n      <th>2</th>\n      <td>1.0</td>\n      <td>0.0</td>\n      <td>0.0</td>\n    </tr>\n    <tr>\n      <th>3</th>\n      <td>1.0</td>\n      <td>0.0</td>\n      <td>0.0</td>\n    </tr>\n    <tr>\n      <th>4</th>\n      <td>1.0</td>\n      <td>0.0</td>\n      <td>0.0</td>\n    </tr>\n  </tbody>\n</table>\n</div>"
                    },
                    "metadata": {},
                    "execution_count": 95,
                    "output_type": "execute_result"
                }
            ],
            "execution_count": 95
        },
        {
            "cell_type": "code",
            "source": [
                "# Display first few rows of `X_train` with `claim_status` and `author_ban_status` columns dropped (since these features are being transformed to numeric)\n",
                "X_train.drop(columns=[\"claim_status\", \"author_ban_status\"]).head()"
            ],
            "metadata": {
                "colab": {
                    "base_uri": "https://localhost:8080/",
                    "height": 206
                },
                "executionInfo": {
                    "elapsed": 178,
                    "status": "ok",
                    "timestamp": 1671474902929,
                    "user": {
                        "displayName": "Lavanya Vijayan",
                        "userId": "09394087000910120547"
                    },
                    "user_tz": 480
                },
                "id": "7pdBRVwnuwc0",
                "outputId": "5f53c2d5-a553-40e1-a909-658c083bf114",
                "azdata_cell_guid": "d61a00c2-6618-4a2e-859d-1f0982e15b31",
                "language": "python"
            },
            "outputs": [
                {
                    "data": {
                        "text/plain": "       video_duration_sec  video_view_count  video_share_count   \n33058                  33            2252.0               23.0  \\\n20491                  52            6664.0              550.0   \n25583                  37            6327.0              257.0   \n18474                  57            1702.0               28.0   \n27312                  21            3842.0              101.0   \n\n       video_download_count  video_comment_count  \n33058                   4.0                  0.0  \n20491                  53.0                  2.0  \n25583                   3.0                  0.0  \n18474                   0.0                  0.0  \n27312                   1.0                  0.0  ",
                        "text/html": "<div>\n<style scoped>\n    .dataframe tbody tr th:only-of-type {\n        vertical-align: middle;\n    }\n\n    .dataframe tbody tr th {\n        vertical-align: top;\n    }\n\n    .dataframe thead th {\n        text-align: right;\n    }\n</style>\n<table border=\"1\" class=\"dataframe\">\n  <thead>\n    <tr style=\"text-align: right;\">\n      <th></th>\n      <th>video_duration_sec</th>\n      <th>video_view_count</th>\n      <th>video_share_count</th>\n      <th>video_download_count</th>\n      <th>video_comment_count</th>\n    </tr>\n  </thead>\n  <tbody>\n    <tr>\n      <th>33058</th>\n      <td>33</td>\n      <td>2252.0</td>\n      <td>23.0</td>\n      <td>4.0</td>\n      <td>0.0</td>\n    </tr>\n    <tr>\n      <th>20491</th>\n      <td>52</td>\n      <td>6664.0</td>\n      <td>550.0</td>\n      <td>53.0</td>\n      <td>2.0</td>\n    </tr>\n    <tr>\n      <th>25583</th>\n      <td>37</td>\n      <td>6327.0</td>\n      <td>257.0</td>\n      <td>3.0</td>\n      <td>0.0</td>\n    </tr>\n    <tr>\n      <th>18474</th>\n      <td>57</td>\n      <td>1702.0</td>\n      <td>28.0</td>\n      <td>0.0</td>\n      <td>0.0</td>\n    </tr>\n    <tr>\n      <th>27312</th>\n      <td>21</td>\n      <td>3842.0</td>\n      <td>101.0</td>\n      <td>1.0</td>\n      <td>0.0</td>\n    </tr>\n  </tbody>\n</table>\n</div>"
                    },
                    "metadata": {},
                    "execution_count": 96,
                    "output_type": "execute_result"
                }
            ],
            "execution_count": 96
        },
        {
            "cell_type": "code",
            "source": [
                "# Concatenate `X_train` and `X_train_encoded_df` to form the final dataframe for training data (`X_train_final`)\n",
                "# Note: Using `.reset_index(drop=True)` to reset the index in X_train after dropping `claim_status` and `author_ban_status`,\n",
                "# so that the indices align with those in `X_train_encoded_df` and `count_df`\n",
                "X_train_final = pd.concat([X_train.drop(columns=[\"claim_status\", \"author_ban_status\"]).reset_index(drop=True), X_train_encoded_df], axis=1)\n",
                "\n",
                "# Display first few rows\n",
                "X_train_final.head()"
            ],
            "metadata": {
                "colab": {
                    "base_uri": "https://localhost:8080/",
                    "height": 288
                },
                "executionInfo": {
                    "elapsed": 11,
                    "status": "ok",
                    "timestamp": 1671474902929,
                    "user": {
                        "displayName": "Lavanya Vijayan",
                        "userId": "09394087000910120547"
                    },
                    "user_tz": 480
                },
                "id": "qKG1TK-KEfuB",
                "outputId": "bd5adc82-b869-4e69-9f04-e1cc0cd90fa8",
                "azdata_cell_guid": "f4eaee67-57d5-4939-8622-9e3c3bd1cd96",
                "language": "python"
            },
            "outputs": [
                {
                    "data": {
                        "text/plain": "   video_duration_sec  video_view_count  video_share_count   \n0                  33            2252.0               23.0  \\\n1                  52            6664.0              550.0   \n2                  37            6327.0              257.0   \n3                  57            1702.0               28.0   \n4                  21            3842.0              101.0   \n\n   video_download_count  video_comment_count  claim_status_opinion   \n0                   4.0                  0.0                   1.0  \\\n1                  53.0                  2.0                   1.0   \n2                   3.0                  0.0                   1.0   \n3                   0.0                  0.0                   1.0   \n4                   1.0                  0.0                   1.0   \n\n   author_ban_status_banned  author_ban_status_under review  \n0                       0.0                             0.0  \n1                       0.0                             0.0  \n2                       0.0                             0.0  \n3                       0.0                             0.0  \n4                       0.0                             0.0  ",
                        "text/html": "<div>\n<style scoped>\n    .dataframe tbody tr th:only-of-type {\n        vertical-align: middle;\n    }\n\n    .dataframe tbody tr th {\n        vertical-align: top;\n    }\n\n    .dataframe thead th {\n        text-align: right;\n    }\n</style>\n<table border=\"1\" class=\"dataframe\">\n  <thead>\n    <tr style=\"text-align: right;\">\n      <th></th>\n      <th>video_duration_sec</th>\n      <th>video_view_count</th>\n      <th>video_share_count</th>\n      <th>video_download_count</th>\n      <th>video_comment_count</th>\n      <th>claim_status_opinion</th>\n      <th>author_ban_status_banned</th>\n      <th>author_ban_status_under review</th>\n    </tr>\n  </thead>\n  <tbody>\n    <tr>\n      <th>0</th>\n      <td>33</td>\n      <td>2252.0</td>\n      <td>23.0</td>\n      <td>4.0</td>\n      <td>0.0</td>\n      <td>1.0</td>\n      <td>0.0</td>\n      <td>0.0</td>\n    </tr>\n    <tr>\n      <th>1</th>\n      <td>52</td>\n      <td>6664.0</td>\n      <td>550.0</td>\n      <td>53.0</td>\n      <td>2.0</td>\n      <td>1.0</td>\n      <td>0.0</td>\n      <td>0.0</td>\n    </tr>\n    <tr>\n      <th>2</th>\n      <td>37</td>\n      <td>6327.0</td>\n      <td>257.0</td>\n      <td>3.0</td>\n      <td>0.0</td>\n      <td>1.0</td>\n      <td>0.0</td>\n      <td>0.0</td>\n    </tr>\n    <tr>\n      <th>3</th>\n      <td>57</td>\n      <td>1702.0</td>\n      <td>28.0</td>\n      <td>0.0</td>\n      <td>0.0</td>\n      <td>1.0</td>\n      <td>0.0</td>\n      <td>0.0</td>\n    </tr>\n    <tr>\n      <th>4</th>\n      <td>21</td>\n      <td>3842.0</td>\n      <td>101.0</td>\n      <td>1.0</td>\n      <td>0.0</td>\n      <td>1.0</td>\n      <td>0.0</td>\n      <td>0.0</td>\n    </tr>\n  </tbody>\n</table>\n</div>"
                    },
                    "metadata": {},
                    "execution_count": 97,
                    "output_type": "execute_result"
                }
            ],
            "execution_count": 97
        },
        {
            "cell_type": "markdown",
            "source": [
                "Check the data type of the outcome variable."
            ],
            "metadata": {
                "id": "9ZHZcDR_fY-D",
                "azdata_cell_guid": "8f1532b3-611f-4b76-b012-66c2d20dfdbf"
            }
        },
        {
            "cell_type": "code",
            "source": [
                "# Check data type of outcome variable\n",
                "y_train.dtype"
            ],
            "metadata": {
                "colab": {
                    "base_uri": "https://localhost:8080/"
                },
                "executionInfo": {
                    "elapsed": 9,
                    "status": "ok",
                    "timestamp": 1671474902929,
                    "user": {
                        "displayName": "Lavanya Vijayan",
                        "userId": "09394087000910120547"
                    },
                    "user_tz": 480
                },
                "id": "QNu4ndvufeP2",
                "outputId": "347a406d-d90e-488e-d9dd-95be8a63eb37",
                "azdata_cell_guid": "970d07a8-6604-487f-ba3f-da539c7f7ca6",
                "language": "python"
            },
            "outputs": [
                {
                    "data": {
                        "text/plain": "dtype('O')"
                    },
                    "metadata": {},
                    "execution_count": 98,
                    "output_type": "execute_result"
                }
            ],
            "execution_count": 98
        },
        {
            "cell_type": "code",
            "source": [
                "# Get unique values of outcome variable\n",
                "y_train.unique()"
            ],
            "metadata": {
                "colab": {
                    "base_uri": "https://localhost:8080/"
                },
                "executionInfo": {
                    "elapsed": 7,
                    "status": "ok",
                    "timestamp": 1671474902930,
                    "user": {
                        "displayName": "Lavanya Vijayan",
                        "userId": "09394087000910120547"
                    },
                    "user_tz": 480
                },
                "id": "23VVtIeD9fet",
                "outputId": "5b528604-3127-4f59-8d28-62e3690f1a8e",
                "azdata_cell_guid": "109bed8f-67bf-40d4-8001-e84b9b7f9f0a",
                "language": "python"
            },
            "outputs": [
                {
                    "data": {
                        "text/plain": "array(['verified', 'not verified'], dtype=object)"
                    },
                    "metadata": {},
                    "execution_count": 99,
                    "output_type": "execute_result"
                }
            ],
            "execution_count": 99
        },
        {
            "cell_type": "markdown",
            "source": [
                "A shown above, the outcome variable is of data type `object` currently. One-hot encoding can be used to make this variable numeric."
            ],
            "metadata": {
                "id": "l4XHTuk4fjSl",
                "azdata_cell_guid": "bf28f8fb-e6d1-4f14-b621-fd8424b840af"
            }
        },
        {
            "cell_type": "code",
            "source": [
                "# Set up an encoder for one-hot encoding the categorical outcome variable\n",
                "y_encoder = OneHotEncoder(drop='first', sparse_output=False)"
            ],
            "metadata": {
                "id": "xGeLvAbgIBGh",
                "azdata_cell_guid": "9172ce62-7213-460b-9d91-c7532bdc725d",
                "language": "python"
            },
            "outputs": [],
            "execution_count": 100
        },
        {
            "cell_type": "code",
            "source": [
                "# Encode the training outcome variable\n",
                "# Notes:\n",
                "#   - Adjusting the shape of `y_train` before passing into `.fit_transform()`, since it takes in 2D array\n",
                "#   - Using `.ravel()` to flatten the array returned by `.fit_transform()`, so that it can be used later to train the model\n",
                "y_train_final = y_encoder.fit_transform(y_train.values.reshape(-1, 1)).ravel()\n",
                "\n",
                "# Display the encoded training outcome variable\n",
                "y_train_final"
            ],
            "metadata": {
                "colab": {
                    "base_uri": "https://localhost:8080/"
                },
                "executionInfo": {
                    "elapsed": 3,
                    "status": "ok",
                    "timestamp": 1671474903065,
                    "user": {
                        "displayName": "Lavanya Vijayan",
                        "userId": "09394087000910120547"
                    },
                    "user_tz": 480
                },
                "id": "qJKcy7sqGeSC",
                "outputId": "926aacd7-c055-420e-dac9-bbe1d2b8b665",
                "azdata_cell_guid": "8239eb9a-9512-4b9c-acb6-510c2fbf4ba1",
                "language": "python"
            },
            "outputs": [
                {
                    "data": {
                        "text/plain": "array([1., 1., 1., ..., 1., 1., 0.])"
                    },
                    "metadata": {},
                    "execution_count": 101,
                    "output_type": "execute_result"
                }
            ],
            "execution_count": 101
        },
        {
            "cell_type": "markdown",
            "source": [
                "## **4a. Model building**"
            ],
            "metadata": {
                "id": "iDYyjWssbnBG",
                "azdata_cell_guid": "73914421-7032-4668-8c70-723df600d8e8"
            },
            "attachments": {}
        },
        {
            "cell_type": "markdown",
            "source": [
                "Construct a model and fit it to the training set."
            ],
            "metadata": {
                "id": "ty8ieBkDBH4g",
                "azdata_cell_guid": "9a1a6af8-3e93-4a9a-8ed1-9f388d338d6f"
            }
        },
        {
            "cell_type": "code",
            "source": [
                "# Construct a logistic regression model and fit it to the training set\n",
                "log_clf = LogisticRegression(random_state=0, max_iter=800).fit(X_train_final, y_train_final)"
            ],
            "metadata": {
                "id": "sNcke2SNvZrN",
                "azdata_cell_guid": "9163c822-6b05-45ea-911f-57061cfd566f",
                "language": "python"
            },
            "outputs": [],
            "execution_count": 102
        },
        {
            "cell_type": "code",
            "source": [
                "# Select the testing features that needs to be encoded\n",
                "X_test_to_encode = X_test[[\"claim_status\", \"author_ban_status\"]]\n",
                "\n",
                "# Display first few rows\n",
                "X_test_to_encode.head()"
            ],
            "metadata": {
                "colab": {
                    "base_uri": "https://localhost:8080/",
                    "height": 206
                },
                "executionInfo": {
                    "elapsed": 12,
                    "status": "ok",
                    "timestamp": 1671474904507,
                    "user": {
                        "displayName": "Lavanya Vijayan",
                        "userId": "09394087000910120547"
                    },
                    "user_tz": 480
                },
                "id": "x-bNI_2_Lp_2",
                "outputId": "f7718819-4cfe-4c99-9aa1-4cd423ab15a6",
                "azdata_cell_guid": "d9750d0a-f309-482c-a4cc-6e41ef45ee90",
                "language": "python"
            },
            "outputs": [
                {
                    "data": {
                        "text/plain": "      claim_status author_ban_status\n21061      opinion            active\n31748      opinion            active\n20197        claim            active\n5727         claim            active\n11607      opinion            active",
                        "text/html": "<div>\n<style scoped>\n    .dataframe tbody tr th:only-of-type {\n        vertical-align: middle;\n    }\n\n    .dataframe tbody tr th {\n        vertical-align: top;\n    }\n\n    .dataframe thead th {\n        text-align: right;\n    }\n</style>\n<table border=\"1\" class=\"dataframe\">\n  <thead>\n    <tr style=\"text-align: right;\">\n      <th></th>\n      <th>claim_status</th>\n      <th>author_ban_status</th>\n    </tr>\n  </thead>\n  <tbody>\n    <tr>\n      <th>21061</th>\n      <td>opinion</td>\n      <td>active</td>\n    </tr>\n    <tr>\n      <th>31748</th>\n      <td>opinion</td>\n      <td>active</td>\n    </tr>\n    <tr>\n      <th>20197</th>\n      <td>claim</td>\n      <td>active</td>\n    </tr>\n    <tr>\n      <th>5727</th>\n      <td>claim</td>\n      <td>active</td>\n    </tr>\n    <tr>\n      <th>11607</th>\n      <td>opinion</td>\n      <td>active</td>\n    </tr>\n  </tbody>\n</table>\n</div>"
                    },
                    "metadata": {},
                    "execution_count": 103,
                    "output_type": "execute_result"
                }
            ],
            "execution_count": 103
        },
        {
            "cell_type": "code",
            "source": [
                "# Transform the testing features using the encoder\n",
                "X_test_encoded = X_encoder.transform(X_test_to_encode)\n",
                "\n",
                "# Display first few rows of encoded testing features\n",
                "X_test_encoded"
            ],
            "metadata": {
                "colab": {
                    "base_uri": "https://localhost:8080/"
                },
                "executionInfo": {
                    "elapsed": 10,
                    "status": "ok",
                    "timestamp": 1671474904507,
                    "user": {
                        "displayName": "Lavanya Vijayan",
                        "userId": "09394087000910120547"
                    },
                    "user_tz": 480
                },
                "id": "OWa-7XD-Lp_3",
                "outputId": "00db6f13-5a88-41eb-dd02-7bcb1843687d",
                "azdata_cell_guid": "5b5c5822-4adc-45f5-9760-29dbbdc43cc3",
                "language": "python"
            },
            "outputs": [
                {
                    "data": {
                        "text/plain": "array([[1., 0., 0.],\n       [1., 0., 0.],\n       [0., 0., 0.],\n       ...,\n       [1., 0., 0.],\n       [0., 0., 1.],\n       [1., 0., 0.]])"
                    },
                    "metadata": {},
                    "execution_count": 104,
                    "output_type": "execute_result"
                }
            ],
            "execution_count": 104
        },
        {
            "cell_type": "code",
            "source": [
                "# Place encoded testing features (which is currently an array) into a dataframe\n",
                "X_test_encoded_df = pd.DataFrame(data=X_test_encoded, columns=X_encoder.get_feature_names_out())\n",
                "\n",
                "# Display first few rows\n",
                "X_test_encoded_df.head()"
            ],
            "metadata": {
                "colab": {
                    "base_uri": "https://localhost:8080/",
                    "height": 206
                },
                "executionInfo": {
                    "elapsed": 8,
                    "status": "ok",
                    "timestamp": 1671474904508,
                    "user": {
                        "displayName": "Lavanya Vijayan",
                        "userId": "09394087000910120547"
                    },
                    "user_tz": 480
                },
                "id": "Nmuk2nAELp_3",
                "outputId": "15b71783-8c16-40bc-b8f9-ae3df940abd1",
                "azdata_cell_guid": "795bbfce-a5a6-405c-bbb6-93f144d17a84",
                "language": "python"
            },
            "outputs": [
                {
                    "data": {
                        "text/plain": "   claim_status_opinion  author_ban_status_banned   \n0                   1.0                       0.0  \\\n1                   1.0                       0.0   \n2                   0.0                       0.0   \n3                   0.0                       0.0   \n4                   1.0                       0.0   \n\n   author_ban_status_under review  \n0                             0.0  \n1                             0.0  \n2                             0.0  \n3                             0.0  \n4                             0.0  ",
                        "text/html": "<div>\n<style scoped>\n    .dataframe tbody tr th:only-of-type {\n        vertical-align: middle;\n    }\n\n    .dataframe tbody tr th {\n        vertical-align: top;\n    }\n\n    .dataframe thead th {\n        text-align: right;\n    }\n</style>\n<table border=\"1\" class=\"dataframe\">\n  <thead>\n    <tr style=\"text-align: right;\">\n      <th></th>\n      <th>claim_status_opinion</th>\n      <th>author_ban_status_banned</th>\n      <th>author_ban_status_under review</th>\n    </tr>\n  </thead>\n  <tbody>\n    <tr>\n      <th>0</th>\n      <td>1.0</td>\n      <td>0.0</td>\n      <td>0.0</td>\n    </tr>\n    <tr>\n      <th>1</th>\n      <td>1.0</td>\n      <td>0.0</td>\n      <td>0.0</td>\n    </tr>\n    <tr>\n      <th>2</th>\n      <td>0.0</td>\n      <td>0.0</td>\n      <td>0.0</td>\n    </tr>\n    <tr>\n      <th>3</th>\n      <td>0.0</td>\n      <td>0.0</td>\n      <td>0.0</td>\n    </tr>\n    <tr>\n      <th>4</th>\n      <td>1.0</td>\n      <td>0.0</td>\n      <td>0.0</td>\n    </tr>\n  </tbody>\n</table>\n</div>"
                    },
                    "metadata": {},
                    "execution_count": 105,
                    "output_type": "execute_result"
                }
            ],
            "execution_count": 105
        },
        {
            "cell_type": "code",
            "source": [
                "# Display first few rows of `X_test` with `claim_status` and `author_ban_status` columns dropped (since these features are being transformed to numeric)\n",
                "X_test.drop(columns=[\"claim_status\", \"author_ban_status\"]).head()"
            ],
            "metadata": {
                "colab": {
                    "base_uri": "https://localhost:8080/",
                    "height": 206
                },
                "executionInfo": {
                    "elapsed": 278,
                    "status": "ok",
                    "timestamp": 1671474904779,
                    "user": {
                        "displayName": "Lavanya Vijayan",
                        "userId": "09394087000910120547"
                    },
                    "user_tz": 480
                },
                "id": "uPkMT-n17pV5",
                "outputId": "17b2c73b-0b49-49f4-aaeb-a6868ea75c86",
                "azdata_cell_guid": "671a28be-a1b8-475e-9406-00585b51655a",
                "language": "python"
            },
            "outputs": [
                {
                    "data": {
                        "text/plain": "       video_duration_sec  video_view_count  video_share_count   \n21061                  41            2118.0               57.0  \\\n31748                  27            5701.0              157.0   \n20197                  31          449767.0            75385.0   \n5727                   19          792813.0            56597.0   \n11607                  54            2044.0               68.0   \n\n       video_download_count  video_comment_count  \n21061                   5.0                  2.0  \n31748                   1.0                  0.0  \n20197                5956.0                728.5  \n5727                 5146.0                728.5  \n11607                  19.0                  2.0  ",
                        "text/html": "<div>\n<style scoped>\n    .dataframe tbody tr th:only-of-type {\n        vertical-align: middle;\n    }\n\n    .dataframe tbody tr th {\n        vertical-align: top;\n    }\n\n    .dataframe thead th {\n        text-align: right;\n    }\n</style>\n<table border=\"1\" class=\"dataframe\">\n  <thead>\n    <tr style=\"text-align: right;\">\n      <th></th>\n      <th>video_duration_sec</th>\n      <th>video_view_count</th>\n      <th>video_share_count</th>\n      <th>video_download_count</th>\n      <th>video_comment_count</th>\n    </tr>\n  </thead>\n  <tbody>\n    <tr>\n      <th>21061</th>\n      <td>41</td>\n      <td>2118.0</td>\n      <td>57.0</td>\n      <td>5.0</td>\n      <td>2.0</td>\n    </tr>\n    <tr>\n      <th>31748</th>\n      <td>27</td>\n      <td>5701.0</td>\n      <td>157.0</td>\n      <td>1.0</td>\n      <td>0.0</td>\n    </tr>\n    <tr>\n      <th>20197</th>\n      <td>31</td>\n      <td>449767.0</td>\n      <td>75385.0</td>\n      <td>5956.0</td>\n      <td>728.5</td>\n    </tr>\n    <tr>\n      <th>5727</th>\n      <td>19</td>\n      <td>792813.0</td>\n      <td>56597.0</td>\n      <td>5146.0</td>\n      <td>728.5</td>\n    </tr>\n    <tr>\n      <th>11607</th>\n      <td>54</td>\n      <td>2044.0</td>\n      <td>68.0</td>\n      <td>19.0</td>\n      <td>2.0</td>\n    </tr>\n  </tbody>\n</table>\n</div>"
                    },
                    "metadata": {},
                    "execution_count": 106,
                    "output_type": "execute_result"
                }
            ],
            "execution_count": 106
        },
        {
            "cell_type": "code",
            "source": [
                "# Concatenate `X_test` and `X_test_encoded_df` to form the final dataframe for training data (`X_test_final`)\n",
                "# Note: Using `.reset_index(drop=True)` to reset the index in X_test after dropping `claim_status`, and `author_ban_status`,\n",
                "# so that the indices align with those in `X_test_encoded_df` and `test_count_df`\n",
                "X_test_final = pd.concat([X_test.drop(columns=[\"claim_status\", \"author_ban_status\"]).reset_index(drop=True), X_test_encoded_df], axis=1)\n",
                "\n",
                "# Display first few rows\n",
                "X_test_final.head()"
            ],
            "metadata": {
                "colab": {
                    "base_uri": "https://localhost:8080/",
                    "height": 288
                },
                "executionInfo": {
                    "elapsed": 277,
                    "status": "ok",
                    "timestamp": 1671474904779,
                    "user": {
                        "displayName": "Lavanya Vijayan",
                        "userId": "09394087000910120547"
                    },
                    "user_tz": 480
                },
                "id": "uLRVCl2yLp_4",
                "outputId": "f20fb5ea-59f4-4e9e-d3d1-7d398d5039d7",
                "azdata_cell_guid": "5ec78ba7-873a-40e3-a4ab-78b48a8685aa",
                "language": "python"
            },
            "outputs": [
                {
                    "data": {
                        "text/plain": "   video_duration_sec  video_view_count  video_share_count   \n0                  41            2118.0               57.0  \\\n1                  27            5701.0              157.0   \n2                  31          449767.0            75385.0   \n3                  19          792813.0            56597.0   \n4                  54            2044.0               68.0   \n\n   video_download_count  video_comment_count  claim_status_opinion   \n0                   5.0                  2.0                   1.0  \\\n1                   1.0                  0.0                   1.0   \n2                5956.0                728.5                   0.0   \n3                5146.0                728.5                   0.0   \n4                  19.0                  2.0                   1.0   \n\n   author_ban_status_banned  author_ban_status_under review  \n0                       0.0                             0.0  \n1                       0.0                             0.0  \n2                       0.0                             0.0  \n3                       0.0                             0.0  \n4                       0.0                             0.0  ",
                        "text/html": "<div>\n<style scoped>\n    .dataframe tbody tr th:only-of-type {\n        vertical-align: middle;\n    }\n\n    .dataframe tbody tr th {\n        vertical-align: top;\n    }\n\n    .dataframe thead th {\n        text-align: right;\n    }\n</style>\n<table border=\"1\" class=\"dataframe\">\n  <thead>\n    <tr style=\"text-align: right;\">\n      <th></th>\n      <th>video_duration_sec</th>\n      <th>video_view_count</th>\n      <th>video_share_count</th>\n      <th>video_download_count</th>\n      <th>video_comment_count</th>\n      <th>claim_status_opinion</th>\n      <th>author_ban_status_banned</th>\n      <th>author_ban_status_under review</th>\n    </tr>\n  </thead>\n  <tbody>\n    <tr>\n      <th>0</th>\n      <td>41</td>\n      <td>2118.0</td>\n      <td>57.0</td>\n      <td>5.0</td>\n      <td>2.0</td>\n      <td>1.0</td>\n      <td>0.0</td>\n      <td>0.0</td>\n    </tr>\n    <tr>\n      <th>1</th>\n      <td>27</td>\n      <td>5701.0</td>\n      <td>157.0</td>\n      <td>1.0</td>\n      <td>0.0</td>\n      <td>1.0</td>\n      <td>0.0</td>\n      <td>0.0</td>\n    </tr>\n    <tr>\n      <th>2</th>\n      <td>31</td>\n      <td>449767.0</td>\n      <td>75385.0</td>\n      <td>5956.0</td>\n      <td>728.5</td>\n      <td>0.0</td>\n      <td>0.0</td>\n      <td>0.0</td>\n    </tr>\n    <tr>\n      <th>3</th>\n      <td>19</td>\n      <td>792813.0</td>\n      <td>56597.0</td>\n      <td>5146.0</td>\n      <td>728.5</td>\n      <td>0.0</td>\n      <td>0.0</td>\n      <td>0.0</td>\n    </tr>\n    <tr>\n      <th>4</th>\n      <td>54</td>\n      <td>2044.0</td>\n      <td>68.0</td>\n      <td>19.0</td>\n      <td>2.0</td>\n      <td>1.0</td>\n      <td>0.0</td>\n      <td>0.0</td>\n    </tr>\n  </tbody>\n</table>\n</div>"
                    },
                    "metadata": {},
                    "execution_count": 107,
                    "output_type": "execute_result"
                }
            ],
            "execution_count": 107
        },
        {
            "cell_type": "markdown",
            "source": [
                "Test the logistic regression model. Use the model to make predictions on the encoded testing set."
            ],
            "metadata": {
                "id": "gM9egturW1eX",
                "azdata_cell_guid": "d46fdf28-9867-4492-babd-3532d9b27ff6"
            }
        },
        {
            "cell_type": "code",
            "source": [
                "# Use the logistic regression model to get predictions on the encoded testing set\n",
                "y_pred = log_clf.predict(X_test_final)"
            ],
            "metadata": {
                "id": "NZQbthy93bWM",
                "azdata_cell_guid": "50dca100-b340-4864-8bf2-7ebc775254d0",
                "language": "python"
            },
            "outputs": [],
            "execution_count": 108
        },
        {
            "cell_type": "markdown",
            "source": [
                "Display the predictions on the encoded testing set."
            ],
            "metadata": {
                "id": "HNjDzuqmYU0G",
                "azdata_cell_guid": "52606360-9cd4-4cd3-a524-dc4b6afdf9a9"
            }
        },
        {
            "cell_type": "code",
            "source": [
                "# Display the predictions on the encoded testing set\n",
                "y_pred"
            ],
            "metadata": {
                "colab": {
                    "base_uri": "https://localhost:8080/"
                },
                "executionInfo": {
                    "elapsed": 12,
                    "status": "ok",
                    "timestamp": 1671474904780,
                    "user": {
                        "displayName": "Lavanya Vijayan",
                        "userId": "09394087000910120547"
                    },
                    "user_tz": 480
                },
                "id": "tyKjLA_gYUYZ",
                "outputId": "bf51e313-7a83-4b38-f78b-93dceeee7977",
                "azdata_cell_guid": "976513e5-1db8-403e-ac9f-2484b796cc0b",
                "language": "python"
            },
            "outputs": [
                {
                    "data": {
                        "text/plain": "array([1., 1., 0., ..., 1., 0., 1.])"
                    },
                    "metadata": {},
                    "execution_count": 109,
                    "output_type": "execute_result"
                }
            ],
            "execution_count": 109
        },
        {
            "cell_type": "markdown",
            "source": [
                "Display the true labels of the testing set."
            ],
            "metadata": {
                "id": "iXDp4m9dYlN3",
                "azdata_cell_guid": "b02b8296-8e43-426b-917a-58384edaf17e"
            }
        },
        {
            "cell_type": "code",
            "source": [
                "# Display the true labels of the testing set\n",
                "y_test"
            ],
            "metadata": {
                "colab": {
                    "base_uri": "https://localhost:8080/"
                },
                "executionInfo": {
                    "elapsed": 9,
                    "status": "ok",
                    "timestamp": 1671474904780,
                    "user": {
                        "displayName": "Lavanya Vijayan",
                        "userId": "09394087000910120547"
                    },
                    "user_tz": 480
                },
                "id": "JymZrHVDYdvu",
                "outputId": "b2f6bc2d-224e-4812-d1aa-27a38e2310d9",
                "azdata_cell_guid": "5a05185a-5538-4010-9eef-6d03d30b5c26",
                "language": "python"
            },
            "outputs": [
                {
                    "data": {
                        "text/plain": "21061        verified\n31748        verified\n20197        verified\n5727     not verified\n11607    not verified\n             ...     \n14756    not verified\n26564        verified\n14800    not verified\n35705        verified\n31060        verified\nName: verified_status, Length: 8942, dtype: object"
                    },
                    "metadata": {},
                    "execution_count": 110,
                    "output_type": "execute_result"
                }
            ],
            "execution_count": 110
        },
        {
            "cell_type": "markdown",
            "source": [
                "Encode the true labels of the testing set so it can be compared to the predictions."
            ],
            "metadata": {
                "id": "WM-HHIInem3Z",
                "azdata_cell_guid": "506cafcc-446f-40e9-9780-63b512ccd81c"
            }
        },
        {
            "cell_type": "code",
            "source": [
                "# Encode the testing outcome variable\n",
                "# Notes:\n",
                "#   - Adjusting the shape of `y_test` before passing into `.transform()`, since it takes in 2D array\n",
                "#   - Using `.ravel()` to flatten the array returned by `.transform()`, so that it can be used later to compare with predictions\n",
                "y_test_final = y_encoder.transform(y_test.values.reshape(-1, 1)).ravel()\n",
                "\n",
                "# Display the encoded testing outcome variable\n",
                "y_test_final"
            ],
            "metadata": {
                "colab": {
                    "base_uri": "https://localhost:8080/"
                },
                "executionInfo": {
                    "elapsed": 151,
                    "status": "ok",
                    "timestamp": 1671474904924,
                    "user": {
                        "displayName": "Lavanya Vijayan",
                        "userId": "09394087000910120547"
                    },
                    "user_tz": 480
                },
                "id": "KNnYVZnjfJfz",
                "outputId": "3164ef1d-723c-4dab-82ce-539fa3c622ec",
                "azdata_cell_guid": "59f70a7b-2aae-40b6-8d37-28ddaddd2c77",
                "language": "python"
            },
            "outputs": [
                {
                    "data": {
                        "text/plain": "array([1., 1., 1., ..., 0., 1., 1.])"
                    },
                    "metadata": {},
                    "execution_count": 111,
                    "output_type": "execute_result"
                }
            ],
            "execution_count": 111
        },
        {
            "cell_type": "markdown",
            "source": [
                "Confirm again that the dimensions of the training and testing sets are in alignment since additional features were added."
            ],
            "metadata": {
                "id": "IzdbI4A4mmHA",
                "azdata_cell_guid": "625daadc-b647-43f9-b469-3402706f8c05"
            }
        },
        {
            "cell_type": "code",
            "source": [
                "# Get shape of each training and testing set\n",
                "X_train_final.shape, y_train_final.shape, X_test_final.shape, y_test_final.shape"
            ],
            "metadata": {
                "colab": {
                    "base_uri": "https://localhost:8080/"
                },
                "executionInfo": {
                    "elapsed": 3,
                    "status": "ok",
                    "timestamp": 1671474904924,
                    "user": {
                        "displayName": "Lavanya Vijayan",
                        "userId": "09394087000910120547"
                    },
                    "user_tz": 480
                },
                "id": "WbbI5cSfmmHA",
                "outputId": "e194728d-5bb5-44a7-c9db-7b30e15a8a3e",
                "azdata_cell_guid": "7cd3df4b-1751-4026-b55d-a828ac964ff8",
                "language": "python"
            },
            "outputs": [
                {
                    "data": {
                        "text/plain": "((26826, 8), (26826,), (8942, 8), (8942,))"
                    },
                    "metadata": {},
                    "execution_count": 112,
                    "output_type": "execute_result"
                }
            ],
            "execution_count": 112
        },
        {
            "cell_type": "markdown",
            "source": [
                "**Observations****:**\n",
                "\n",
                "- The number of features (`8`) aligns between the training and testing sets.\n",
                "- The number of rows aligns between the features and the outcome variable for training (`26826`) and testing (`8942`)."
            ],
            "metadata": {
                "id": "uce4ew5fmmHA",
                "azdata_cell_guid": "13dfe6f8-dc3d-41c4-b4f8-aeb3700565ff"
            },
            "attachments": {}
        },
        {
            "cell_type": "markdown",
            "source": [
                "## **4b. Visualize model results**"
            ],
            "metadata": {
                "id": "IMQltTaQFnwv",
                "azdata_cell_guid": "953bc77f-99d9-43d5-8d43-bd7805504631"
            },
            "attachments": {}
        },
        {
            "cell_type": "markdown",
            "source": [
                "Create a confusion matrix to visualize the results of the logistic regression model."
            ],
            "metadata": {
                "id": "VVMG0ubSXQvS",
                "azdata_cell_guid": "7b8a9897-5419-4df0-bd6a-6a3c24bb7c1d"
            }
        },
        {
            "cell_type": "code",
            "source": [
                "# Compute values for confusion matrix\n",
                "log_cm = confusion_matrix(y_test_final, y_pred, labels=log_clf.classes_)\n",
                "\n",
                "# Create display of confusion matrix\n",
                "log_disp = ConfusionMatrixDisplay(confusion_matrix=log_cm, display_labels=log_clf.classes_)\n",
                "\n",
                "# Plot confusion matrix\n",
                "log_disp.plot()\n",
                "\n",
                "# save the plot as JPG file\n",
                "plt.savefig(\"figs/confusion_matrix.jpg\")"
            ],
            "metadata": {
                "colab": {
                    "base_uri": "https://localhost:8080/",
                    "height": 279
                },
                "executionInfo": {
                    "elapsed": 561,
                    "status": "ok",
                    "timestamp": 1671474905483,
                    "user": {
                        "displayName": "Lavanya Vijayan",
                        "userId": "09394087000910120547"
                    },
                    "user_tz": 480
                },
                "id": "ZPgiHdlyZCTf",
                "outputId": "9d6ab643-2d13-4bd3-b0e5-518b5e94ff9d",
                "azdata_cell_guid": "d93ead5c-137b-4ca5-85c7-b1a972b26ea3",
                "language": "python"
            },
            "outputs": [
                {
                    "data": {
                        "text/plain": "<Figure size 432x288 with 2 Axes>",
                        "image/png": "[encoded data removed]"
                    },
                    "metadata": {
                        "needs_background": "light"
                    },
                    "output_type": "display_data"
                }
            ],
            "execution_count": 113
        },
        {
            "cell_type": "code",
            "source": [
                "(3758+2044) / (3758 + 725 + 2044 + 2415)"
            ],
            "metadata": {
                "azdata_cell_guid": "67f8b490-cd1d-414a-ae44-7eb035d60d2e",
                "language": "python"
            },
            "outputs": [
                {
                    "data": {
                        "text/plain": "0.6488481324088571"
                    },
                    "metadata": {},
                    "execution_count": 114,
                    "output_type": "execute_result"
                }
            ],
            "execution_count": 114
        },
        {
            "cell_type": "markdown",
            "source": [
                "**Observations****:**\n",
                "\n",
                "The upper-left quadrant displays the number of true negatives: the number of videos posted by unverified accounts that the model accurately classified as so.\n",
                "\n",
                "The upper-right quadrant displays the number of false positives: the number of videos posted by unverified accounts that the model misclassified as posted by verified accounts.\n",
                "\n",
                "The lower-left quadrant displays the number of false negatives: the number of videos posted by verified accounts that the model misclassified as posted by unverified accounts.\n",
                "\n",
                "The lower-right quadrant displays the number of true positives: the number of videos posted by verified accounts that the model accurately classified as so.\n",
                "\n",
                "A perfect model would yield all true negatives and true positives, and no false negatives or false positives."
            ],
            "metadata": {
                "id": "jFTNAnk9ehWp",
                "azdata_cell_guid": "ea6de031-0719-43db-8899-fc176d3980a6"
            },
            "attachments": {}
        },
        {
            "cell_type": "markdown",
            "source": [
                "Create a classification report that includes precision, recall, f1-score, and accuracy metrics to evaluate the performance of the logistic regression model."
            ],
            "metadata": {
                "id": "I6OmnATfbtNd",
                "azdata_cell_guid": "76eb6029-a558-4a68-923e-c530c5b2ceab"
            }
        },
        {
            "cell_type": "code",
            "source": [
                "# Create classification report for logistic regression model\n",
                "target_labels = [\"verified\", \"not verified\"]\n",
                "print(classification_report(y_test_final, y_pred, target_names=target_labels))"
            ],
            "metadata": {
                "colab": {
                    "base_uri": "https://localhost:8080/"
                },
                "executionInfo": {
                    "elapsed": 204,
                    "status": "ok",
                    "timestamp": 1671474905682,
                    "user": {
                        "displayName": "Lavanya Vijayan",
                        "userId": "09394087000910120547"
                    },
                    "user_tz": 480
                },
                "id": "AMxCzRa-bnUe",
                "outputId": "e314d4d7-662e-40df-bbc8-7f11ea230272",
                "azdata_cell_guid": "7683b16e-0db6-4b54-967a-4244af1a4309",
                "language": "python"
            },
            "outputs": [
                {
                    "name": "stdout",
                    "text": "              precision    recall  f1-score   support\n\n    verified       0.74      0.46      0.57      4459\nnot verified       0.61      0.84      0.71      4483\n\n    accuracy                           0.65      8942\n   macro avg       0.67      0.65      0.64      8942\nweighted avg       0.67      0.65      0.64      8942\n\n",
                    "output_type": "stream"
                }
            ],
            "execution_count": 115
        },
        {
            "cell_type": "markdown",
            "source": [
                "**Observations****:** The classification report above shows that the logistic regression model achieved a precision of 61% and a recall of 84%, and it achieved an accuracy of 65%. Note that the precision and recall scores are taken from the \"not verified\" row of the output because that is the target class that we are most interested in predicting. The \"verified\" class has its own precision/recall metrics, and the weighted average represents the combined metrics for both classes of the target variable."
            ],
            "metadata": {
                "id": "zy4YlWJIpakL",
                "azdata_cell_guid": "576d8e6b-d64d-4340-89de-b2d2147e5c21"
            },
            "attachments": {}
        },
        {
            "cell_type": "markdown",
            "source": [
                "## **4c. Interpret model coefficients**"
            ],
            "metadata": {
                "id": "IFY_y19EKQoO",
                "azdata_cell_guid": "647a5e3a-efe8-44d0-962d-55ee460e8e3b"
            },
            "attachments": {}
        },
        {
            "cell_type": "code",
            "source": [
                "# Get the feature names from the model and the model coefficients (which represent log-odds ratios)\n",
                "# Place into a DataFrame for readability\n",
                "pd.DataFrame(data={\"Feature Name\":log_clf.feature_names_in_, \"Model Coefficient\":log_clf.coef_[0]})"
            ],
            "metadata": {
                "colab": {
                    "base_uri": "https://localhost:8080/",
                    "height": 300
                },
                "executionInfo": {
                    "elapsed": 203,
                    "status": "ok",
                    "timestamp": 1671474905683,
                    "user": {
                        "displayName": "Lavanya Vijayan",
                        "userId": "09394087000910120547"
                    },
                    "user_tz": 480
                },
                "id": "6TmRk8tz4JpG",
                "outputId": "5a385485-1cc9-4158-961d-224d1591a0f9",
                "azdata_cell_guid": "cd88c411-a233-48ba-b701-71362b9bad71",
                "language": "python"
            },
            "outputs": [
                {
                    "data": {
                        "text/plain": "                     Feature Name  Model Coefficient\n0              video_duration_sec       8.607893e-03\n1                video_view_count      -2.132079e-06\n2               video_share_count       5.930971e-06\n3            video_download_count      -1.099775e-05\n4             video_comment_count      -6.404235e-04\n5            claim_status_opinion       3.908384e-04\n6        author_ban_status_banned      -1.781741e-05\n7  author_ban_status_under review      -9.682447e-07",
                        "text/html": "<div>\n<style scoped>\n    .dataframe tbody tr th:only-of-type {\n        vertical-align: middle;\n    }\n\n    .dataframe tbody tr th {\n        vertical-align: top;\n    }\n\n    .dataframe thead th {\n        text-align: right;\n    }\n</style>\n<table border=\"1\" class=\"dataframe\">\n  <thead>\n    <tr style=\"text-align: right;\">\n      <th></th>\n      <th>Feature Name</th>\n      <th>Model Coefficient</th>\n    </tr>\n  </thead>\n  <tbody>\n    <tr>\n      <th>0</th>\n      <td>video_duration_sec</td>\n      <td>8.607893e-03</td>\n    </tr>\n    <tr>\n      <th>1</th>\n      <td>video_view_count</td>\n      <td>-2.132079e-06</td>\n    </tr>\n    <tr>\n      <th>2</th>\n      <td>video_share_count</td>\n      <td>5.930971e-06</td>\n    </tr>\n    <tr>\n      <th>3</th>\n      <td>video_download_count</td>\n      <td>-1.099775e-05</td>\n    </tr>\n    <tr>\n      <th>4</th>\n      <td>video_comment_count</td>\n      <td>-6.404235e-04</td>\n    </tr>\n    <tr>\n      <th>5</th>\n      <td>claim_status_opinion</td>\n      <td>3.908384e-04</td>\n    </tr>\n    <tr>\n      <th>6</th>\n      <td>author_ban_status_banned</td>\n      <td>-1.781741e-05</td>\n    </tr>\n    <tr>\n      <th>7</th>\n      <td>author_ban_status_under review</td>\n      <td>-9.682447e-07</td>\n    </tr>\n  </tbody>\n</table>\n</div>"
                    },
                    "metadata": {},
                    "execution_count": 116,
                    "output_type": "execute_result"
                }
            ],
            "execution_count": 116
        },
        {
            "cell_type": "markdown",
            "source": [
                "## **5\\. Conclusions**\n",
                "\n",
                "**Key takeaways:**\n",
                "\n",
                "- The dataset has a few strongly correlated variables, which might lead to multicollinearity issues when fitting a logistic regression model. We decided to drop `video_like_count` from the model building.\n",
                "- Based on the logistic regression model, each additional second of the video is associated with 0.009 increase in the log-odds of the user having a verified status.\n",
                "- The logistic regression model had not great, but acceptable predictive power: a precision of 61% is less than ideal, but a recall of 84% is very good. Overall accuracy is towards the lower end of what would typically be considered acceptable.\n",
                "\n",
                "We developed a logistic regression model for verified status based on video features. The model had decent predictive power. Based on the estimated model coefficients from the logistic regression, longer videos tend to be associated with higher odds of the user being verified. Other video features have small estimated coefficients in the model, so their association with verified status seems to be small."
            ],
            "metadata": {
                "id": "2oToQ22Oo-VQ",
                "azdata_cell_guid": "b949df8b-aace-41f8-b306-6aac2e556f0e"
            },
            "attachments": {}
        }
    ]
}